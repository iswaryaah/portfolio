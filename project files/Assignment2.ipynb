{
 "cells": [
  {
   "cell_type": "markdown",
   "metadata": {},
   "source": [
    "Before you turn this problem in, make sure everything runs as expected. First, **restart the kernel** (in the menu bar, select Kernel$\\rightarrow$Restart) and then **run all cells** (in the menu bar, select Cell$\\rightarrow$Run All).\n",
    "\n",
    "Below, please fill in your name and collaborators:"
   ]
  },
  {
   "cell_type": "code",
   "execution_count": 1,
   "metadata": {},
   "outputs": [],
   "source": [
    "NAME = \"Iswaryaah Balakrishnan\""
   ]
  },
  {
   "cell_type": "markdown",
   "metadata": {},
   "source": [
    "# Assignment 2 - Time Series Analysis\n",
    "**(30 points total)**"
   ]
  },
  {
   "cell_type": "markdown",
   "metadata": {},
   "source": [
    "## Assignment tasks:"
   ]
  },
  {
   "cell_type": "markdown",
   "metadata": {},
   "source": [
    "In this assignment you will conduct time series analysis of the financial data. \n",
    "\n",
    "1. Setup your environment to access and download latest stock data. You will use the Yahoo Finance library. To install it, you will need to run this code: pip install yfinance\n",
    "\n",
    "2. *(4 points)* Download the **adjusted** close prices for FB, MMM, IBM and AMZN for the last 60 months. \n",
    "\n",
    "3. *(6 points)* Resample the data to get prices for the end of the **business** month. Select the **Adjusted Close** for each stock.\n",
    "\n",
    "4. *(6 points)* Use the pandas `autocorrelation_plot()` function to plot the autocorrelation of the adjusted month-end close prices for each of the stocks.\n",
    "    - Are they autocorrelated?\n",
    "    - Provide short explanation.\n",
    "\n",
    "5. *(8 points)* \n",
    "    - Calculate the monthly returns for each stock using the \"shift trick\" explained in the lecture, using `shift()` function. \n",
    "    - Use pandas `autotocorrelation_plot()` to plot the autocorrelation of the monthly returns.\n",
    "    - Are the returns autocorrelated? Provide short explanation.\n",
    "\n",
    "6. *(6 points)*\n",
    "    - Combine all 4 time series (returns) into a single DataFrame,\n",
    "    - Visualize the correlation between the returns of all pairs of stocks using a scatter plot matrix (use `scatter_matrix()` function from `pandas.plotting`).\n",
    "    - Explain the results. Is there any correlation?\n",
    "\n",
    "**NOTES:** \n",
    "1. In this assignment, please make sure the DataFrame(s) do not contain any NAs before you plot autocorrelations or scatter matrix.\n",
    "2. Both options explained below use `pandas-datareader` package for remote data access. To install it, type the following in a command window: `conda install pandas-datareader`. You will also need to install one or more of the following packages `yfinance`.\n",
    "\n",
    "---------"
   ]
  },
  {
   "cell_type": "markdown",
   "metadata": {},
   "source": [
    "### Import all the relevant libraries and follow the examples below for importing data."
   ]
  },
  {
   "cell_type": "code",
   "execution_count": 2,
   "metadata": {},
   "outputs": [
    {
     "name": "stdout",
     "output_type": "stream",
     "text": [
      "Requirement already satisfied: yfinance in /Users/iswaryaah/opt/anaconda3/lib/python3.9/site-packages (0.1.70)\n",
      "Requirement already satisfied: numpy>=1.15 in /Users/iswaryaah/opt/anaconda3/lib/python3.9/site-packages (from yfinance) (1.20.3)\n",
      "Requirement already satisfied: pandas>=0.24.0 in /Users/iswaryaah/opt/anaconda3/lib/python3.9/site-packages (from yfinance) (1.3.4)\n",
      "Requirement already satisfied: multitasking>=0.0.7 in /Users/iswaryaah/opt/anaconda3/lib/python3.9/site-packages (from yfinance) (0.0.10)\n",
      "Requirement already satisfied: lxml>=4.5.1 in /Users/iswaryaah/opt/anaconda3/lib/python3.9/site-packages (from yfinance) (4.6.3)\n",
      "Requirement already satisfied: requests>=2.26 in /Users/iswaryaah/opt/anaconda3/lib/python3.9/site-packages (from yfinance) (2.26.0)\n",
      "Requirement already satisfied: python-dateutil>=2.7.3 in /Users/iswaryaah/opt/anaconda3/lib/python3.9/site-packages (from pandas>=0.24.0->yfinance) (2.8.2)\n",
      "Requirement already satisfied: pytz>=2017.3 in /Users/iswaryaah/opt/anaconda3/lib/python3.9/site-packages (from pandas>=0.24.0->yfinance) (2021.3)\n",
      "Requirement already satisfied: six>=1.5 in /Users/iswaryaah/opt/anaconda3/lib/python3.9/site-packages (from python-dateutil>=2.7.3->pandas>=0.24.0->yfinance) (1.16.0)\n",
      "Requirement already satisfied: idna<4,>=2.5 in /Users/iswaryaah/opt/anaconda3/lib/python3.9/site-packages (from requests>=2.26->yfinance) (3.2)\n",
      "Requirement already satisfied: charset-normalizer~=2.0.0 in /Users/iswaryaah/opt/anaconda3/lib/python3.9/site-packages (from requests>=2.26->yfinance) (2.0.4)\n",
      "Requirement already satisfied: urllib3<1.27,>=1.21.1 in /Users/iswaryaah/opt/anaconda3/lib/python3.9/site-packages (from requests>=2.26->yfinance) (1.26.7)\n",
      "Requirement already satisfied: certifi>=2017.4.17 in /Users/iswaryaah/opt/anaconda3/lib/python3.9/site-packages (from requests>=2.26->yfinance) (2021.10.8)\n",
      "Note: you may need to restart the kernel to use updated packages.\n"
     ]
    }
   ],
   "source": [
    "pip install yfinance"
   ]
  },
  {
   "cell_type": "code",
   "execution_count": 3,
   "metadata": {},
   "outputs": [
    {
     "name": "stdout",
     "output_type": "stream",
     "text": [
      "Requirement already satisfied: pandas-datareader in /Users/iswaryaah/opt/anaconda3/lib/python3.9/site-packages (0.10.0)\n",
      "Requirement already satisfied: requests>=2.19.0 in /Users/iswaryaah/opt/anaconda3/lib/python3.9/site-packages (from pandas-datareader) (2.26.0)\n",
      "Requirement already satisfied: lxml in /Users/iswaryaah/opt/anaconda3/lib/python3.9/site-packages (from pandas-datareader) (4.6.3)\n",
      "Requirement already satisfied: pandas>=0.23 in /Users/iswaryaah/opt/anaconda3/lib/python3.9/site-packages (from pandas-datareader) (1.3.4)\n",
      "Requirement already satisfied: python-dateutil>=2.7.3 in /Users/iswaryaah/opt/anaconda3/lib/python3.9/site-packages (from pandas>=0.23->pandas-datareader) (2.8.2)\n",
      "Requirement already satisfied: pytz>=2017.3 in /Users/iswaryaah/opt/anaconda3/lib/python3.9/site-packages (from pandas>=0.23->pandas-datareader) (2021.3)\n",
      "Requirement already satisfied: numpy>=1.17.3 in /Users/iswaryaah/opt/anaconda3/lib/python3.9/site-packages (from pandas>=0.23->pandas-datareader) (1.20.3)\n",
      "Requirement already satisfied: six>=1.5 in /Users/iswaryaah/opt/anaconda3/lib/python3.9/site-packages (from python-dateutil>=2.7.3->pandas>=0.23->pandas-datareader) (1.16.0)\n",
      "Requirement already satisfied: charset-normalizer~=2.0.0 in /Users/iswaryaah/opt/anaconda3/lib/python3.9/site-packages (from requests>=2.19.0->pandas-datareader) (2.0.4)\n",
      "Requirement already satisfied: idna<4,>=2.5 in /Users/iswaryaah/opt/anaconda3/lib/python3.9/site-packages (from requests>=2.19.0->pandas-datareader) (3.2)\n",
      "Requirement already satisfied: certifi>=2017.4.17 in /Users/iswaryaah/opt/anaconda3/lib/python3.9/site-packages (from requests>=2.19.0->pandas-datareader) (2021.10.8)\n",
      "Requirement already satisfied: urllib3<1.27,>=1.21.1 in /Users/iswaryaah/opt/anaconda3/lib/python3.9/site-packages (from requests>=2.19.0->pandas-datareader) (1.26.7)\n",
      "Note: you may need to restart the kernel to use updated packages.\n"
     ]
    }
   ],
   "source": [
    "pip install pandas-datareader"
   ]
  },
  {
   "cell_type": "code",
   "execution_count": 4,
   "metadata": {},
   "outputs": [
    {
     "name": "stdout",
     "output_type": "stream",
     "text": [
      "[*********************100%***********************]  1 of 1 completed\n",
      "[*********************100%***********************]  1 of 1 completed\n",
      "[*********************100%***********************]  1 of 1 completed\n",
      "[*********************100%***********************]  1 of 1 completed\n"
     ]
    }
   ],
   "source": [
    "import yfinance as yf\n",
    "from pandas_datareader import data as pdr\n",
    "import pandas as pd\n",
    "import numpy as np\n",
    "import matplotlib.pyplot as plt\n",
    "%matplotlib inline\n",
    "pd.core.common.is_list_like = pd.api.types.is_list_like\n",
    "import datetime\n",
    "import pandas_datareader.data as web\n",
    "from statsmodels.formula.api import ols\n",
    "import statsmodels.api as sm\n",
    "\n",
    "start = datetime.datetime(2017,3,17)\n",
    "end = datetime.datetime(2022,3,17)\n",
    "\n",
    "# Option 1) Using pandas datareader and Yahoo Finance\n",
    "yf.pdr_override()\n",
    "\n",
    "amzn = pdr.get_data_yahoo('AMZN', start = start)\n",
    "fb = pdr.get_data_yahoo('FB', start = start)\n",
    "ibm = pdr.get_data_yahoo('IBM', start = start)\n",
    "mmm = pdr.get_data_yahoo('MMM', start = start)"
   ]
  },
  {
   "cell_type": "code",
   "execution_count": 5,
   "metadata": {},
   "outputs": [
    {
     "name": "stdout",
     "output_type": "stream",
     "text": [
      "[*********************100%***********************]  1 of 1 completed\n",
      "[*********************100%***********************]  1 of 1 completed\n",
      "[*********************100%***********************]  1 of 1 completed\n",
      "[*********************100%***********************]  1 of 1 completed\n"
     ]
    }
   ],
   "source": [
    "# Option 2) Using yfinance library only to download AMZN data\n",
    "\n",
    "amzn = yf.download('AMZN', start=start)\n",
    "fb = yf.download('FB', start=start)\n",
    "ibm = yf.download('IBM', start=start)\n",
    "mmm = yf.download('MMM', start=start)"
   ]
  },
  {
   "cell_type": "code",
   "execution_count": 6,
   "metadata": {},
   "outputs": [
    {
     "name": "stdout",
     "output_type": "stream",
     "text": [
      "[*********************100%***********************]  4 of 4 completed\n"
     ]
    }
   ],
   "source": [
    "# If we want to download multipe stocks into a single dataframe:\n",
    "\n",
    "all_stocks_list = ['AMZN', 'FB', 'IBM', 'MMM']\n",
    "all_stocks = yf.download(all_stocks_list, start = start, end = end)"
   ]
  },
  {
   "cell_type": "code",
   "execution_count": 7,
   "metadata": {},
   "outputs": [],
   "source": [
    "## TYPE YOUR CODE BELOW"
   ]
  },
  {
   "cell_type": "markdown",
   "metadata": {},
   "source": [
    "### 1 Setup your environment to access and download latest stock data. You will use the Yahoo Finance library. "
   ]
  },
  {
   "cell_type": "code",
   "execution_count": 8,
   "metadata": {},
   "outputs": [],
   "source": [
    "import yfinance as yf\n",
    "import pandas as pd\n",
    "from pandas_datareader import data as pdr\n",
    "import numpy as np\n",
    "import matplotlib.pyplot as plt\n",
    "%matplotlib inline\n",
    "pd.core.common.is_list_like = pd.api.types.is_list_like\n",
    "import datetime\n",
    "from statsmodels.formula.api import ols\n",
    "import statsmodels.api as sm\n",
    "import seaborn as sns\n",
    "\n",
    "# Last 60 months\n",
    "start = datetime.datetime(2017,3,17)\n",
    "end = datetime.datetime(2022,3,17)"
   ]
  },
  {
   "cell_type": "code",
   "execution_count": 9,
   "metadata": {},
   "outputs": [
    {
     "name": "stdout",
     "output_type": "stream",
     "text": [
      "[*********************100%***********************]  4 of 4 completed\n"
     ]
    }
   ],
   "source": [
    "all_stocks_list = ['AMZN', 'FB', 'IBM', 'MMM']\n",
    "all_stocks = yf.download(all_stocks_list, start = start, end = end)"
   ]
  },
  {
   "cell_type": "code",
   "execution_count": 10,
   "metadata": {},
   "outputs": [
    {
     "data": {
      "text/html": [
       "<div>\n",
       "<style scoped>\n",
       "    .dataframe tbody tr th:only-of-type {\n",
       "        vertical-align: middle;\n",
       "    }\n",
       "\n",
       "    .dataframe tbody tr th {\n",
       "        vertical-align: top;\n",
       "    }\n",
       "\n",
       "    .dataframe thead tr th {\n",
       "        text-align: left;\n",
       "    }\n",
       "\n",
       "    .dataframe thead tr:last-of-type th {\n",
       "        text-align: right;\n",
       "    }\n",
       "</style>\n",
       "<table border=\"1\" class=\"dataframe\">\n",
       "  <thead>\n",
       "    <tr>\n",
       "      <th></th>\n",
       "      <th colspan=\"4\" halign=\"left\">Adj Close</th>\n",
       "      <th colspan=\"4\" halign=\"left\">Close</th>\n",
       "      <th colspan=\"2\" halign=\"left\">High</th>\n",
       "      <th>...</th>\n",
       "      <th colspan=\"2\" halign=\"left\">Low</th>\n",
       "      <th colspan=\"4\" halign=\"left\">Open</th>\n",
       "      <th colspan=\"4\" halign=\"left\">Volume</th>\n",
       "    </tr>\n",
       "    <tr>\n",
       "      <th></th>\n",
       "      <th>AMZN</th>\n",
       "      <th>FB</th>\n",
       "      <th>IBM</th>\n",
       "      <th>MMM</th>\n",
       "      <th>AMZN</th>\n",
       "      <th>FB</th>\n",
       "      <th>IBM</th>\n",
       "      <th>MMM</th>\n",
       "      <th>AMZN</th>\n",
       "      <th>FB</th>\n",
       "      <th>...</th>\n",
       "      <th>IBM</th>\n",
       "      <th>MMM</th>\n",
       "      <th>AMZN</th>\n",
       "      <th>FB</th>\n",
       "      <th>IBM</th>\n",
       "      <th>MMM</th>\n",
       "      <th>AMZN</th>\n",
       "      <th>FB</th>\n",
       "      <th>IBM</th>\n",
       "      <th>MMM</th>\n",
       "    </tr>\n",
       "    <tr>\n",
       "      <th>Date</th>\n",
       "      <th></th>\n",
       "      <th></th>\n",
       "      <th></th>\n",
       "      <th></th>\n",
       "      <th></th>\n",
       "      <th></th>\n",
       "      <th></th>\n",
       "      <th></th>\n",
       "      <th></th>\n",
       "      <th></th>\n",
       "      <th></th>\n",
       "      <th></th>\n",
       "      <th></th>\n",
       "      <th></th>\n",
       "      <th></th>\n",
       "      <th></th>\n",
       "      <th></th>\n",
       "      <th></th>\n",
       "      <th></th>\n",
       "      <th></th>\n",
       "      <th></th>\n",
       "    </tr>\n",
       "  </thead>\n",
       "  <tbody>\n",
       "    <tr>\n",
       "      <th>2017-03-17</th>\n",
       "      <td>852.309998</td>\n",
       "      <td>139.839996</td>\n",
       "      <td>131.688873</td>\n",
       "      <td>164.992279</td>\n",
       "      <td>852.309998</td>\n",
       "      <td>139.839996</td>\n",
       "      <td>167.925430</td>\n",
       "      <td>192.360001</td>\n",
       "      <td>853.830017</td>\n",
       "      <td>140.339996</td>\n",
       "      <td>...</td>\n",
       "      <td>167.925430</td>\n",
       "      <td>190.350006</td>\n",
       "      <td>853.489990</td>\n",
       "      <td>140.339996</td>\n",
       "      <td>168.537292</td>\n",
       "      <td>190.820007</td>\n",
       "      <td>3384400</td>\n",
       "      <td>20592800</td>\n",
       "      <td>6193366</td>\n",
       "      <td>4228100</td>\n",
       "    </tr>\n",
       "    <tr>\n",
       "      <th>2017-03-20</th>\n",
       "      <td>856.969971</td>\n",
       "      <td>139.940002</td>\n",
       "      <td>131.726364</td>\n",
       "      <td>165.549789</td>\n",
       "      <td>856.969971</td>\n",
       "      <td>139.940002</td>\n",
       "      <td>167.973236</td>\n",
       "      <td>193.009995</td>\n",
       "      <td>857.799988</td>\n",
       "      <td>140.190002</td>\n",
       "      <td>...</td>\n",
       "      <td>167.437866</td>\n",
       "      <td>192.279999</td>\n",
       "      <td>851.510010</td>\n",
       "      <td>139.710007</td>\n",
       "      <td>167.925430</td>\n",
       "      <td>192.520004</td>\n",
       "      <td>2282700</td>\n",
       "      <td>12099500</td>\n",
       "      <td>2590001</td>\n",
       "      <td>2085600</td>\n",
       "    </tr>\n",
       "    <tr>\n",
       "      <th>2017-03-21</th>\n",
       "      <td>843.200012</td>\n",
       "      <td>138.509995</td>\n",
       "      <td>130.361862</td>\n",
       "      <td>164.795029</td>\n",
       "      <td>843.200012</td>\n",
       "      <td>138.509995</td>\n",
       "      <td>166.233276</td>\n",
       "      <td>192.130005</td>\n",
       "      <td>862.799988</td>\n",
       "      <td>142.309998</td>\n",
       "      <td>...</td>\n",
       "      <td>166.195023</td>\n",
       "      <td>191.509995</td>\n",
       "      <td>858.840027</td>\n",
       "      <td>141.149994</td>\n",
       "      <td>168.269592</td>\n",
       "      <td>193.490005</td>\n",
       "      <td>4382900</td>\n",
       "      <td>29894800</td>\n",
       "      <td>4108374</td>\n",
       "      <td>1895100</td>\n",
       "    </tr>\n",
       "    <tr>\n",
       "      <th>2017-03-22</th>\n",
       "      <td>848.059998</td>\n",
       "      <td>139.589996</td>\n",
       "      <td>131.036591</td>\n",
       "      <td>164.872238</td>\n",
       "      <td>848.059998</td>\n",
       "      <td>139.589996</td>\n",
       "      <td>167.093689</td>\n",
       "      <td>192.220001</td>\n",
       "      <td>849.369995</td>\n",
       "      <td>139.789993</td>\n",
       "      <td>...</td>\n",
       "      <td>165.200760</td>\n",
       "      <td>190.460007</td>\n",
       "      <td>840.429993</td>\n",
       "      <td>137.929993</td>\n",
       "      <td>166.386230</td>\n",
       "      <td>192.300003</td>\n",
       "      <td>2658700</td>\n",
       "      <td>17055400</td>\n",
       "      <td>3609223</td>\n",
       "      <td>1627300</td>\n",
       "    </tr>\n",
       "    <tr>\n",
       "      <th>2017-03-23</th>\n",
       "      <td>847.380005</td>\n",
       "      <td>139.529999</td>\n",
       "      <td>131.066574</td>\n",
       "      <td>164.803635</td>\n",
       "      <td>847.380005</td>\n",
       "      <td>139.529999</td>\n",
       "      <td>167.131927</td>\n",
       "      <td>192.139999</td>\n",
       "      <td>850.890015</td>\n",
       "      <td>140.389999</td>\n",
       "      <td>...</td>\n",
       "      <td>165.927338</td>\n",
       "      <td>191.229996</td>\n",
       "      <td>848.200012</td>\n",
       "      <td>139.479996</td>\n",
       "      <td>166.759079</td>\n",
       "      <td>192.119995</td>\n",
       "      <td>1953000</td>\n",
       "      <td>13022800</td>\n",
       "      <td>3912040</td>\n",
       "      <td>1482000</td>\n",
       "    </tr>\n",
       "    <tr>\n",
       "      <th>...</th>\n",
       "      <td>...</td>\n",
       "      <td>...</td>\n",
       "      <td>...</td>\n",
       "      <td>...</td>\n",
       "      <td>...</td>\n",
       "      <td>...</td>\n",
       "      <td>...</td>\n",
       "      <td>...</td>\n",
       "      <td>...</td>\n",
       "      <td>...</td>\n",
       "      <td>...</td>\n",
       "      <td>...</td>\n",
       "      <td>...</td>\n",
       "      <td>...</td>\n",
       "      <td>...</td>\n",
       "      <td>...</td>\n",
       "      <td>...</td>\n",
       "      <td>...</td>\n",
       "      <td>...</td>\n",
       "      <td>...</td>\n",
       "      <td>...</td>\n",
       "    </tr>\n",
       "    <tr>\n",
       "      <th>2022-03-10</th>\n",
       "      <td>2936.350098</td>\n",
       "      <td>195.210007</td>\n",
       "      <td>124.349998</td>\n",
       "      <td>143.929993</td>\n",
       "      <td>2936.350098</td>\n",
       "      <td>195.210007</td>\n",
       "      <td>124.349998</td>\n",
       "      <td>143.929993</td>\n",
       "      <td>2973.489990</td>\n",
       "      <td>196.279999</td>\n",
       "      <td>...</td>\n",
       "      <td>123.129997</td>\n",
       "      <td>143.330002</td>\n",
       "      <td>2913.699951</td>\n",
       "      <td>194.839996</td>\n",
       "      <td>125.750000</td>\n",
       "      <td>145.339996</td>\n",
       "      <td>6753100</td>\n",
       "      <td>24853000</td>\n",
       "      <td>5326800</td>\n",
       "      <td>3794000</td>\n",
       "    </tr>\n",
       "    <tr>\n",
       "      <th>2022-03-11</th>\n",
       "      <td>2910.489990</td>\n",
       "      <td>187.610001</td>\n",
       "      <td>123.959999</td>\n",
       "      <td>140.960007</td>\n",
       "      <td>2910.489990</td>\n",
       "      <td>187.610001</td>\n",
       "      <td>123.959999</td>\n",
       "      <td>140.960007</td>\n",
       "      <td>2993.500000</td>\n",
       "      <td>193.559998</td>\n",
       "      <td>...</td>\n",
       "      <td>123.910004</td>\n",
       "      <td>140.830002</td>\n",
       "      <td>2991.489990</td>\n",
       "      <td>192.639999</td>\n",
       "      <td>125.000000</td>\n",
       "      <td>143.470001</td>\n",
       "      <td>3440500</td>\n",
       "      <td>34656900</td>\n",
       "      <td>4117600</td>\n",
       "      <td>4148700</td>\n",
       "    </tr>\n",
       "    <tr>\n",
       "      <th>2022-03-14</th>\n",
       "      <td>2837.060059</td>\n",
       "      <td>186.630005</td>\n",
       "      <td>123.940002</td>\n",
       "      <td>143.479996</td>\n",
       "      <td>2837.060059</td>\n",
       "      <td>186.630005</td>\n",
       "      <td>123.940002</td>\n",
       "      <td>143.479996</td>\n",
       "      <td>2949.000000</td>\n",
       "      <td>192.289993</td>\n",
       "      <td>...</td>\n",
       "      <td>122.690002</td>\n",
       "      <td>141.449997</td>\n",
       "      <td>2919.620117</td>\n",
       "      <td>187.029999</td>\n",
       "      <td>124.449997</td>\n",
       "      <td>141.449997</td>\n",
       "      <td>3704300</td>\n",
       "      <td>31010500</td>\n",
       "      <td>3289200</td>\n",
       "      <td>3910100</td>\n",
       "    </tr>\n",
       "    <tr>\n",
       "      <th>2022-03-15</th>\n",
       "      <td>2947.330078</td>\n",
       "      <td>192.029999</td>\n",
       "      <td>125.639999</td>\n",
       "      <td>144.309998</td>\n",
       "      <td>2947.330078</td>\n",
       "      <td>192.029999</td>\n",
       "      <td>125.639999</td>\n",
       "      <td>144.309998</td>\n",
       "      <td>2959.699951</td>\n",
       "      <td>192.279999</td>\n",
       "      <td>...</td>\n",
       "      <td>123.220001</td>\n",
       "      <td>142.589996</td>\n",
       "      <td>2857.000000</td>\n",
       "      <td>190.800003</td>\n",
       "      <td>124.000000</td>\n",
       "      <td>144.869995</td>\n",
       "      <td>3779200</td>\n",
       "      <td>31721700</td>\n",
       "      <td>4021200</td>\n",
       "      <td>3337300</td>\n",
       "    </tr>\n",
       "    <tr>\n",
       "      <th>2022-03-16</th>\n",
       "      <td>3062.080078</td>\n",
       "      <td>203.630005</td>\n",
       "      <td>127.040001</td>\n",
       "      <td>145.509995</td>\n",
       "      <td>3062.080078</td>\n",
       "      <td>203.630005</td>\n",
       "      <td>127.040001</td>\n",
       "      <td>145.509995</td>\n",
       "      <td>3063.000000</td>\n",
       "      <td>203.729996</td>\n",
       "      <td>...</td>\n",
       "      <td>124.709999</td>\n",
       "      <td>142.839996</td>\n",
       "      <td>2970.000000</td>\n",
       "      <td>194.699997</td>\n",
       "      <td>126.500000</td>\n",
       "      <td>144.759995</td>\n",
       "      <td>4247900</td>\n",
       "      <td>40640300</td>\n",
       "      <td>4292800</td>\n",
       "      <td>3813800</td>\n",
       "    </tr>\n",
       "  </tbody>\n",
       "</table>\n",
       "<p>1259 rows × 24 columns</p>\n",
       "</div>"
      ],
      "text/plain": [
       "              Adj Close                                            Close  \\\n",
       "                   AMZN          FB         IBM         MMM         AMZN   \n",
       "Date                                                                       \n",
       "2017-03-17   852.309998  139.839996  131.688873  164.992279   852.309998   \n",
       "2017-03-20   856.969971  139.940002  131.726364  165.549789   856.969971   \n",
       "2017-03-21   843.200012  138.509995  130.361862  164.795029   843.200012   \n",
       "2017-03-22   848.059998  139.589996  131.036591  164.872238   848.059998   \n",
       "2017-03-23   847.380005  139.529999  131.066574  164.803635   847.380005   \n",
       "...                 ...         ...         ...         ...          ...   \n",
       "2022-03-10  2936.350098  195.210007  124.349998  143.929993  2936.350098   \n",
       "2022-03-11  2910.489990  187.610001  123.959999  140.960007  2910.489990   \n",
       "2022-03-14  2837.060059  186.630005  123.940002  143.479996  2837.060059   \n",
       "2022-03-15  2947.330078  192.029999  125.639999  144.309998  2947.330078   \n",
       "2022-03-16  3062.080078  203.630005  127.040001  145.509995  3062.080078   \n",
       "\n",
       "                                                       High              ...  \\\n",
       "                    FB         IBM         MMM         AMZN          FB  ...   \n",
       "Date                                                                     ...   \n",
       "2017-03-17  139.839996  167.925430  192.360001   853.830017  140.339996  ...   \n",
       "2017-03-20  139.940002  167.973236  193.009995   857.799988  140.190002  ...   \n",
       "2017-03-21  138.509995  166.233276  192.130005   862.799988  142.309998  ...   \n",
       "2017-03-22  139.589996  167.093689  192.220001   849.369995  139.789993  ...   \n",
       "2017-03-23  139.529999  167.131927  192.139999   850.890015  140.389999  ...   \n",
       "...                ...         ...         ...          ...         ...  ...   \n",
       "2022-03-10  195.210007  124.349998  143.929993  2973.489990  196.279999  ...   \n",
       "2022-03-11  187.610001  123.959999  140.960007  2993.500000  193.559998  ...   \n",
       "2022-03-14  186.630005  123.940002  143.479996  2949.000000  192.289993  ...   \n",
       "2022-03-15  192.029999  125.639999  144.309998  2959.699951  192.279999  ...   \n",
       "2022-03-16  203.630005  127.040001  145.509995  3063.000000  203.729996  ...   \n",
       "\n",
       "                   Low                     Open                          \\\n",
       "                   IBM         MMM         AMZN          FB         IBM   \n",
       "Date                                                                      \n",
       "2017-03-17  167.925430  190.350006   853.489990  140.339996  168.537292   \n",
       "2017-03-20  167.437866  192.279999   851.510010  139.710007  167.925430   \n",
       "2017-03-21  166.195023  191.509995   858.840027  141.149994  168.269592   \n",
       "2017-03-22  165.200760  190.460007   840.429993  137.929993  166.386230   \n",
       "2017-03-23  165.927338  191.229996   848.200012  139.479996  166.759079   \n",
       "...                ...         ...          ...         ...         ...   \n",
       "2022-03-10  123.129997  143.330002  2913.699951  194.839996  125.750000   \n",
       "2022-03-11  123.910004  140.830002  2991.489990  192.639999  125.000000   \n",
       "2022-03-14  122.690002  141.449997  2919.620117  187.029999  124.449997   \n",
       "2022-03-15  123.220001  142.589996  2857.000000  190.800003  124.000000   \n",
       "2022-03-16  124.709999  142.839996  2970.000000  194.699997  126.500000   \n",
       "\n",
       "                         Volume                              \n",
       "                   MMM     AMZN        FB      IBM      MMM  \n",
       "Date                                                         \n",
       "2017-03-17  190.820007  3384400  20592800  6193366  4228100  \n",
       "2017-03-20  192.520004  2282700  12099500  2590001  2085600  \n",
       "2017-03-21  193.490005  4382900  29894800  4108374  1895100  \n",
       "2017-03-22  192.300003  2658700  17055400  3609223  1627300  \n",
       "2017-03-23  192.119995  1953000  13022800  3912040  1482000  \n",
       "...                ...      ...       ...      ...      ...  \n",
       "2022-03-10  145.339996  6753100  24853000  5326800  3794000  \n",
       "2022-03-11  143.470001  3440500  34656900  4117600  4148700  \n",
       "2022-03-14  141.449997  3704300  31010500  3289200  3910100  \n",
       "2022-03-15  144.869995  3779200  31721700  4021200  3337300  \n",
       "2022-03-16  144.759995  4247900  40640300  4292800  3813800  \n",
       "\n",
       "[1259 rows x 24 columns]"
      ]
     },
     "execution_count": 10,
     "metadata": {},
     "output_type": "execute_result"
    }
   ],
   "source": [
    "all_stocks"
   ]
  },
  {
   "cell_type": "code",
   "execution_count": 11,
   "metadata": {},
   "outputs": [
    {
     "data": {
      "text/html": [
       "<div>\n",
       "<style scoped>\n",
       "    .dataframe tbody tr th:only-of-type {\n",
       "        vertical-align: middle;\n",
       "    }\n",
       "\n",
       "    .dataframe tbody tr th {\n",
       "        vertical-align: top;\n",
       "    }\n",
       "\n",
       "    .dataframe thead tr th {\n",
       "        text-align: left;\n",
       "    }\n",
       "\n",
       "    .dataframe thead tr:last-of-type th {\n",
       "        text-align: right;\n",
       "    }\n",
       "</style>\n",
       "<table border=\"1\" class=\"dataframe\">\n",
       "  <thead>\n",
       "    <tr>\n",
       "      <th></th>\n",
       "      <th colspan=\"4\" halign=\"left\">Adj Close</th>\n",
       "      <th colspan=\"4\" halign=\"left\">Close</th>\n",
       "      <th colspan=\"2\" halign=\"left\">High</th>\n",
       "      <th>...</th>\n",
       "      <th colspan=\"2\" halign=\"left\">Low</th>\n",
       "      <th colspan=\"4\" halign=\"left\">Open</th>\n",
       "      <th colspan=\"4\" halign=\"left\">Volume</th>\n",
       "    </tr>\n",
       "    <tr>\n",
       "      <th></th>\n",
       "      <th>AMZN</th>\n",
       "      <th>FB</th>\n",
       "      <th>IBM</th>\n",
       "      <th>MMM</th>\n",
       "      <th>AMZN</th>\n",
       "      <th>FB</th>\n",
       "      <th>IBM</th>\n",
       "      <th>MMM</th>\n",
       "      <th>AMZN</th>\n",
       "      <th>FB</th>\n",
       "      <th>...</th>\n",
       "      <th>IBM</th>\n",
       "      <th>MMM</th>\n",
       "      <th>AMZN</th>\n",
       "      <th>FB</th>\n",
       "      <th>IBM</th>\n",
       "      <th>MMM</th>\n",
       "      <th>AMZN</th>\n",
       "      <th>FB</th>\n",
       "      <th>IBM</th>\n",
       "      <th>MMM</th>\n",
       "    </tr>\n",
       "    <tr>\n",
       "      <th>Date</th>\n",
       "      <th></th>\n",
       "      <th></th>\n",
       "      <th></th>\n",
       "      <th></th>\n",
       "      <th></th>\n",
       "      <th></th>\n",
       "      <th></th>\n",
       "      <th></th>\n",
       "      <th></th>\n",
       "      <th></th>\n",
       "      <th></th>\n",
       "      <th></th>\n",
       "      <th></th>\n",
       "      <th></th>\n",
       "      <th></th>\n",
       "      <th></th>\n",
       "      <th></th>\n",
       "      <th></th>\n",
       "      <th></th>\n",
       "      <th></th>\n",
       "      <th></th>\n",
       "    </tr>\n",
       "  </thead>\n",
       "  <tbody>\n",
       "    <tr>\n",
       "      <th>2017-03-17</th>\n",
       "      <td>852.309998</td>\n",
       "      <td>139.839996</td>\n",
       "      <td>131.688873</td>\n",
       "      <td>164.992279</td>\n",
       "      <td>852.309998</td>\n",
       "      <td>139.839996</td>\n",
       "      <td>167.925430</td>\n",
       "      <td>192.360001</td>\n",
       "      <td>853.830017</td>\n",
       "      <td>140.339996</td>\n",
       "      <td>...</td>\n",
       "      <td>167.925430</td>\n",
       "      <td>190.350006</td>\n",
       "      <td>853.489990</td>\n",
       "      <td>140.339996</td>\n",
       "      <td>168.537292</td>\n",
       "      <td>190.820007</td>\n",
       "      <td>3384400</td>\n",
       "      <td>20592800</td>\n",
       "      <td>6193366</td>\n",
       "      <td>4228100</td>\n",
       "    </tr>\n",
       "    <tr>\n",
       "      <th>2017-03-20</th>\n",
       "      <td>856.969971</td>\n",
       "      <td>139.940002</td>\n",
       "      <td>131.726364</td>\n",
       "      <td>165.549789</td>\n",
       "      <td>856.969971</td>\n",
       "      <td>139.940002</td>\n",
       "      <td>167.973236</td>\n",
       "      <td>193.009995</td>\n",
       "      <td>857.799988</td>\n",
       "      <td>140.190002</td>\n",
       "      <td>...</td>\n",
       "      <td>167.437866</td>\n",
       "      <td>192.279999</td>\n",
       "      <td>851.510010</td>\n",
       "      <td>139.710007</td>\n",
       "      <td>167.925430</td>\n",
       "      <td>192.520004</td>\n",
       "      <td>2282700</td>\n",
       "      <td>12099500</td>\n",
       "      <td>2590001</td>\n",
       "      <td>2085600</td>\n",
       "    </tr>\n",
       "    <tr>\n",
       "      <th>2017-03-21</th>\n",
       "      <td>843.200012</td>\n",
       "      <td>138.509995</td>\n",
       "      <td>130.361862</td>\n",
       "      <td>164.795029</td>\n",
       "      <td>843.200012</td>\n",
       "      <td>138.509995</td>\n",
       "      <td>166.233276</td>\n",
       "      <td>192.130005</td>\n",
       "      <td>862.799988</td>\n",
       "      <td>142.309998</td>\n",
       "      <td>...</td>\n",
       "      <td>166.195023</td>\n",
       "      <td>191.509995</td>\n",
       "      <td>858.840027</td>\n",
       "      <td>141.149994</td>\n",
       "      <td>168.269592</td>\n",
       "      <td>193.490005</td>\n",
       "      <td>4382900</td>\n",
       "      <td>29894800</td>\n",
       "      <td>4108374</td>\n",
       "      <td>1895100</td>\n",
       "    </tr>\n",
       "    <tr>\n",
       "      <th>2017-03-22</th>\n",
       "      <td>848.059998</td>\n",
       "      <td>139.589996</td>\n",
       "      <td>131.036591</td>\n",
       "      <td>164.872238</td>\n",
       "      <td>848.059998</td>\n",
       "      <td>139.589996</td>\n",
       "      <td>167.093689</td>\n",
       "      <td>192.220001</td>\n",
       "      <td>849.369995</td>\n",
       "      <td>139.789993</td>\n",
       "      <td>...</td>\n",
       "      <td>165.200760</td>\n",
       "      <td>190.460007</td>\n",
       "      <td>840.429993</td>\n",
       "      <td>137.929993</td>\n",
       "      <td>166.386230</td>\n",
       "      <td>192.300003</td>\n",
       "      <td>2658700</td>\n",
       "      <td>17055400</td>\n",
       "      <td>3609223</td>\n",
       "      <td>1627300</td>\n",
       "    </tr>\n",
       "    <tr>\n",
       "      <th>2017-03-23</th>\n",
       "      <td>847.380005</td>\n",
       "      <td>139.529999</td>\n",
       "      <td>131.066574</td>\n",
       "      <td>164.803635</td>\n",
       "      <td>847.380005</td>\n",
       "      <td>139.529999</td>\n",
       "      <td>167.131927</td>\n",
       "      <td>192.139999</td>\n",
       "      <td>850.890015</td>\n",
       "      <td>140.389999</td>\n",
       "      <td>...</td>\n",
       "      <td>165.927338</td>\n",
       "      <td>191.229996</td>\n",
       "      <td>848.200012</td>\n",
       "      <td>139.479996</td>\n",
       "      <td>166.759079</td>\n",
       "      <td>192.119995</td>\n",
       "      <td>1953000</td>\n",
       "      <td>13022800</td>\n",
       "      <td>3912040</td>\n",
       "      <td>1482000</td>\n",
       "    </tr>\n",
       "  </tbody>\n",
       "</table>\n",
       "<p>5 rows × 24 columns</p>\n",
       "</div>"
      ],
      "text/plain": [
       "             Adj Close                                           Close  \\\n",
       "                  AMZN          FB         IBM         MMM        AMZN   \n",
       "Date                                                                     \n",
       "2017-03-17  852.309998  139.839996  131.688873  164.992279  852.309998   \n",
       "2017-03-20  856.969971  139.940002  131.726364  165.549789  856.969971   \n",
       "2017-03-21  843.200012  138.509995  130.361862  164.795029  843.200012   \n",
       "2017-03-22  848.059998  139.589996  131.036591  164.872238  848.059998   \n",
       "2017-03-23  847.380005  139.529999  131.066574  164.803635  847.380005   \n",
       "\n",
       "                                                      High              ...  \\\n",
       "                    FB         IBM         MMM        AMZN          FB  ...   \n",
       "Date                                                                    ...   \n",
       "2017-03-17  139.839996  167.925430  192.360001  853.830017  140.339996  ...   \n",
       "2017-03-20  139.940002  167.973236  193.009995  857.799988  140.190002  ...   \n",
       "2017-03-21  138.509995  166.233276  192.130005  862.799988  142.309998  ...   \n",
       "2017-03-22  139.589996  167.093689  192.220001  849.369995  139.789993  ...   \n",
       "2017-03-23  139.529999  167.131927  192.139999  850.890015  140.389999  ...   \n",
       "\n",
       "                   Low                    Open                          \\\n",
       "                   IBM         MMM        AMZN          FB         IBM   \n",
       "Date                                                                     \n",
       "2017-03-17  167.925430  190.350006  853.489990  140.339996  168.537292   \n",
       "2017-03-20  167.437866  192.279999  851.510010  139.710007  167.925430   \n",
       "2017-03-21  166.195023  191.509995  858.840027  141.149994  168.269592   \n",
       "2017-03-22  165.200760  190.460007  840.429993  137.929993  166.386230   \n",
       "2017-03-23  165.927338  191.229996  848.200012  139.479996  166.759079   \n",
       "\n",
       "                         Volume                              \n",
       "                   MMM     AMZN        FB      IBM      MMM  \n",
       "Date                                                         \n",
       "2017-03-17  190.820007  3384400  20592800  6193366  4228100  \n",
       "2017-03-20  192.520004  2282700  12099500  2590001  2085600  \n",
       "2017-03-21  193.490005  4382900  29894800  4108374  1895100  \n",
       "2017-03-22  192.300003  2658700  17055400  3609223  1627300  \n",
       "2017-03-23  192.119995  1953000  13022800  3912040  1482000  \n",
       "\n",
       "[5 rows x 24 columns]"
      ]
     },
     "execution_count": 11,
     "metadata": {},
     "output_type": "execute_result"
    }
   ],
   "source": [
    "all_stocks.head()"
   ]
  },
  {
   "cell_type": "code",
   "execution_count": 12,
   "metadata": {},
   "outputs": [
    {
     "data": {
      "text/html": [
       "<div>\n",
       "<style scoped>\n",
       "    .dataframe tbody tr th:only-of-type {\n",
       "        vertical-align: middle;\n",
       "    }\n",
       "\n",
       "    .dataframe tbody tr th {\n",
       "        vertical-align: top;\n",
       "    }\n",
       "\n",
       "    .dataframe thead tr th {\n",
       "        text-align: left;\n",
       "    }\n",
       "\n",
       "    .dataframe thead tr:last-of-type th {\n",
       "        text-align: right;\n",
       "    }\n",
       "</style>\n",
       "<table border=\"1\" class=\"dataframe\">\n",
       "  <thead>\n",
       "    <tr>\n",
       "      <th></th>\n",
       "      <th colspan=\"4\" halign=\"left\">Adj Close</th>\n",
       "      <th colspan=\"4\" halign=\"left\">Close</th>\n",
       "      <th colspan=\"2\" halign=\"left\">High</th>\n",
       "      <th>...</th>\n",
       "      <th colspan=\"2\" halign=\"left\">Low</th>\n",
       "      <th colspan=\"4\" halign=\"left\">Open</th>\n",
       "      <th colspan=\"4\" halign=\"left\">Volume</th>\n",
       "    </tr>\n",
       "    <tr>\n",
       "      <th></th>\n",
       "      <th>AMZN</th>\n",
       "      <th>FB</th>\n",
       "      <th>IBM</th>\n",
       "      <th>MMM</th>\n",
       "      <th>AMZN</th>\n",
       "      <th>FB</th>\n",
       "      <th>IBM</th>\n",
       "      <th>MMM</th>\n",
       "      <th>AMZN</th>\n",
       "      <th>FB</th>\n",
       "      <th>...</th>\n",
       "      <th>IBM</th>\n",
       "      <th>MMM</th>\n",
       "      <th>AMZN</th>\n",
       "      <th>FB</th>\n",
       "      <th>IBM</th>\n",
       "      <th>MMM</th>\n",
       "      <th>AMZN</th>\n",
       "      <th>FB</th>\n",
       "      <th>IBM</th>\n",
       "      <th>MMM</th>\n",
       "    </tr>\n",
       "    <tr>\n",
       "      <th>Date</th>\n",
       "      <th></th>\n",
       "      <th></th>\n",
       "      <th></th>\n",
       "      <th></th>\n",
       "      <th></th>\n",
       "      <th></th>\n",
       "      <th></th>\n",
       "      <th></th>\n",
       "      <th></th>\n",
       "      <th></th>\n",
       "      <th></th>\n",
       "      <th></th>\n",
       "      <th></th>\n",
       "      <th></th>\n",
       "      <th></th>\n",
       "      <th></th>\n",
       "      <th></th>\n",
       "      <th></th>\n",
       "      <th></th>\n",
       "      <th></th>\n",
       "      <th></th>\n",
       "    </tr>\n",
       "  </thead>\n",
       "  <tbody>\n",
       "    <tr>\n",
       "      <th>2022-03-10</th>\n",
       "      <td>2936.350098</td>\n",
       "      <td>195.210007</td>\n",
       "      <td>124.349998</td>\n",
       "      <td>143.929993</td>\n",
       "      <td>2936.350098</td>\n",
       "      <td>195.210007</td>\n",
       "      <td>124.349998</td>\n",
       "      <td>143.929993</td>\n",
       "      <td>2973.489990</td>\n",
       "      <td>196.279999</td>\n",
       "      <td>...</td>\n",
       "      <td>123.129997</td>\n",
       "      <td>143.330002</td>\n",
       "      <td>2913.699951</td>\n",
       "      <td>194.839996</td>\n",
       "      <td>125.750000</td>\n",
       "      <td>145.339996</td>\n",
       "      <td>6753100</td>\n",
       "      <td>24853000</td>\n",
       "      <td>5326800</td>\n",
       "      <td>3794000</td>\n",
       "    </tr>\n",
       "    <tr>\n",
       "      <th>2022-03-11</th>\n",
       "      <td>2910.489990</td>\n",
       "      <td>187.610001</td>\n",
       "      <td>123.959999</td>\n",
       "      <td>140.960007</td>\n",
       "      <td>2910.489990</td>\n",
       "      <td>187.610001</td>\n",
       "      <td>123.959999</td>\n",
       "      <td>140.960007</td>\n",
       "      <td>2993.500000</td>\n",
       "      <td>193.559998</td>\n",
       "      <td>...</td>\n",
       "      <td>123.910004</td>\n",
       "      <td>140.830002</td>\n",
       "      <td>2991.489990</td>\n",
       "      <td>192.639999</td>\n",
       "      <td>125.000000</td>\n",
       "      <td>143.470001</td>\n",
       "      <td>3440500</td>\n",
       "      <td>34656900</td>\n",
       "      <td>4117600</td>\n",
       "      <td>4148700</td>\n",
       "    </tr>\n",
       "    <tr>\n",
       "      <th>2022-03-14</th>\n",
       "      <td>2837.060059</td>\n",
       "      <td>186.630005</td>\n",
       "      <td>123.940002</td>\n",
       "      <td>143.479996</td>\n",
       "      <td>2837.060059</td>\n",
       "      <td>186.630005</td>\n",
       "      <td>123.940002</td>\n",
       "      <td>143.479996</td>\n",
       "      <td>2949.000000</td>\n",
       "      <td>192.289993</td>\n",
       "      <td>...</td>\n",
       "      <td>122.690002</td>\n",
       "      <td>141.449997</td>\n",
       "      <td>2919.620117</td>\n",
       "      <td>187.029999</td>\n",
       "      <td>124.449997</td>\n",
       "      <td>141.449997</td>\n",
       "      <td>3704300</td>\n",
       "      <td>31010500</td>\n",
       "      <td>3289200</td>\n",
       "      <td>3910100</td>\n",
       "    </tr>\n",
       "    <tr>\n",
       "      <th>2022-03-15</th>\n",
       "      <td>2947.330078</td>\n",
       "      <td>192.029999</td>\n",
       "      <td>125.639999</td>\n",
       "      <td>144.309998</td>\n",
       "      <td>2947.330078</td>\n",
       "      <td>192.029999</td>\n",
       "      <td>125.639999</td>\n",
       "      <td>144.309998</td>\n",
       "      <td>2959.699951</td>\n",
       "      <td>192.279999</td>\n",
       "      <td>...</td>\n",
       "      <td>123.220001</td>\n",
       "      <td>142.589996</td>\n",
       "      <td>2857.000000</td>\n",
       "      <td>190.800003</td>\n",
       "      <td>124.000000</td>\n",
       "      <td>144.869995</td>\n",
       "      <td>3779200</td>\n",
       "      <td>31721700</td>\n",
       "      <td>4021200</td>\n",
       "      <td>3337300</td>\n",
       "    </tr>\n",
       "    <tr>\n",
       "      <th>2022-03-16</th>\n",
       "      <td>3062.080078</td>\n",
       "      <td>203.630005</td>\n",
       "      <td>127.040001</td>\n",
       "      <td>145.509995</td>\n",
       "      <td>3062.080078</td>\n",
       "      <td>203.630005</td>\n",
       "      <td>127.040001</td>\n",
       "      <td>145.509995</td>\n",
       "      <td>3063.000000</td>\n",
       "      <td>203.729996</td>\n",
       "      <td>...</td>\n",
       "      <td>124.709999</td>\n",
       "      <td>142.839996</td>\n",
       "      <td>2970.000000</td>\n",
       "      <td>194.699997</td>\n",
       "      <td>126.500000</td>\n",
       "      <td>144.759995</td>\n",
       "      <td>4247900</td>\n",
       "      <td>40640300</td>\n",
       "      <td>4292800</td>\n",
       "      <td>3813800</td>\n",
       "    </tr>\n",
       "  </tbody>\n",
       "</table>\n",
       "<p>5 rows × 24 columns</p>\n",
       "</div>"
      ],
      "text/plain": [
       "              Adj Close                                            Close  \\\n",
       "                   AMZN          FB         IBM         MMM         AMZN   \n",
       "Date                                                                       \n",
       "2022-03-10  2936.350098  195.210007  124.349998  143.929993  2936.350098   \n",
       "2022-03-11  2910.489990  187.610001  123.959999  140.960007  2910.489990   \n",
       "2022-03-14  2837.060059  186.630005  123.940002  143.479996  2837.060059   \n",
       "2022-03-15  2947.330078  192.029999  125.639999  144.309998  2947.330078   \n",
       "2022-03-16  3062.080078  203.630005  127.040001  145.509995  3062.080078   \n",
       "\n",
       "                                                       High              ...  \\\n",
       "                    FB         IBM         MMM         AMZN          FB  ...   \n",
       "Date                                                                     ...   \n",
       "2022-03-10  195.210007  124.349998  143.929993  2973.489990  196.279999  ...   \n",
       "2022-03-11  187.610001  123.959999  140.960007  2993.500000  193.559998  ...   \n",
       "2022-03-14  186.630005  123.940002  143.479996  2949.000000  192.289993  ...   \n",
       "2022-03-15  192.029999  125.639999  144.309998  2959.699951  192.279999  ...   \n",
       "2022-03-16  203.630005  127.040001  145.509995  3063.000000  203.729996  ...   \n",
       "\n",
       "                   Low                     Open                          \\\n",
       "                   IBM         MMM         AMZN          FB         IBM   \n",
       "Date                                                                      \n",
       "2022-03-10  123.129997  143.330002  2913.699951  194.839996  125.750000   \n",
       "2022-03-11  123.910004  140.830002  2991.489990  192.639999  125.000000   \n",
       "2022-03-14  122.690002  141.449997  2919.620117  187.029999  124.449997   \n",
       "2022-03-15  123.220001  142.589996  2857.000000  190.800003  124.000000   \n",
       "2022-03-16  124.709999  142.839996  2970.000000  194.699997  126.500000   \n",
       "\n",
       "                         Volume                              \n",
       "                   MMM     AMZN        FB      IBM      MMM  \n",
       "Date                                                         \n",
       "2022-03-10  145.339996  6753100  24853000  5326800  3794000  \n",
       "2022-03-11  143.470001  3440500  34656900  4117600  4148700  \n",
       "2022-03-14  141.449997  3704300  31010500  3289200  3910100  \n",
       "2022-03-15  144.869995  3779200  31721700  4021200  3337300  \n",
       "2022-03-16  144.759995  4247900  40640300  4292800  3813800  \n",
       "\n",
       "[5 rows x 24 columns]"
      ]
     },
     "execution_count": 12,
     "metadata": {},
     "output_type": "execute_result"
    }
   ],
   "source": [
    "all_stocks.tail()"
   ]
  },
  {
   "cell_type": "code",
   "execution_count": 13,
   "metadata": {},
   "outputs": [
    {
     "data": {
      "text/plain": [
       "(1259, 24)"
      ]
     },
     "execution_count": 13,
     "metadata": {},
     "output_type": "execute_result"
    }
   ],
   "source": [
    "all_stocks.shape"
   ]
  },
  {
   "cell_type": "code",
   "execution_count": 14,
   "metadata": {},
   "outputs": [
    {
     "name": "stdout",
     "output_type": "stream",
     "text": [
      "<class 'pandas.core.frame.DataFrame'>\n",
      "DatetimeIndex: 1259 entries, 2017-03-17 to 2022-03-16\n",
      "Data columns (total 24 columns):\n",
      " #   Column             Non-Null Count  Dtype  \n",
      "---  ------             --------------  -----  \n",
      " 0   (Adj Close, AMZN)  1259 non-null   float64\n",
      " 1   (Adj Close, FB)    1259 non-null   float64\n",
      " 2   (Adj Close, IBM)   1259 non-null   float64\n",
      " 3   (Adj Close, MMM)   1259 non-null   float64\n",
      " 4   (Close, AMZN)      1259 non-null   float64\n",
      " 5   (Close, FB)        1259 non-null   float64\n",
      " 6   (Close, IBM)       1259 non-null   float64\n",
      " 7   (Close, MMM)       1259 non-null   float64\n",
      " 8   (High, AMZN)       1259 non-null   float64\n",
      " 9   (High, FB)         1259 non-null   float64\n",
      " 10  (High, IBM)        1259 non-null   float64\n",
      " 11  (High, MMM)        1259 non-null   float64\n",
      " 12  (Low, AMZN)        1259 non-null   float64\n",
      " 13  (Low, FB)          1259 non-null   float64\n",
      " 14  (Low, IBM)         1259 non-null   float64\n",
      " 15  (Low, MMM)         1259 non-null   float64\n",
      " 16  (Open, AMZN)       1259 non-null   float64\n",
      " 17  (Open, FB)         1259 non-null   float64\n",
      " 18  (Open, IBM)        1259 non-null   float64\n",
      " 19  (Open, MMM)        1259 non-null   float64\n",
      " 20  (Volume, AMZN)     1259 non-null   int64  \n",
      " 21  (Volume, FB)       1259 non-null   int64  \n",
      " 22  (Volume, IBM)      1259 non-null   int64  \n",
      " 23  (Volume, MMM)      1259 non-null   int64  \n",
      "dtypes: float64(20), int64(4)\n",
      "memory usage: 245.9 KB\n"
     ]
    }
   ],
   "source": [
    "all_stocks.info()"
   ]
  },
  {
   "cell_type": "code",
   "execution_count": 15,
   "metadata": {},
   "outputs": [
    {
     "data": {
      "text/html": [
       "<div>\n",
       "<style scoped>\n",
       "    .dataframe tbody tr th:only-of-type {\n",
       "        vertical-align: middle;\n",
       "    }\n",
       "\n",
       "    .dataframe tbody tr th {\n",
       "        vertical-align: top;\n",
       "    }\n",
       "\n",
       "    .dataframe thead tr th {\n",
       "        text-align: left;\n",
       "    }\n",
       "</style>\n",
       "<table border=\"1\" class=\"dataframe\">\n",
       "  <thead>\n",
       "    <tr>\n",
       "      <th></th>\n",
       "      <th colspan=\"4\" halign=\"left\">Adj Close</th>\n",
       "      <th colspan=\"4\" halign=\"left\">Close</th>\n",
       "      <th colspan=\"2\" halign=\"left\">High</th>\n",
       "      <th>...</th>\n",
       "      <th colspan=\"2\" halign=\"left\">Low</th>\n",
       "      <th colspan=\"4\" halign=\"left\">Open</th>\n",
       "      <th colspan=\"4\" halign=\"left\">Volume</th>\n",
       "    </tr>\n",
       "    <tr>\n",
       "      <th></th>\n",
       "      <th>AMZN</th>\n",
       "      <th>FB</th>\n",
       "      <th>IBM</th>\n",
       "      <th>MMM</th>\n",
       "      <th>AMZN</th>\n",
       "      <th>FB</th>\n",
       "      <th>IBM</th>\n",
       "      <th>MMM</th>\n",
       "      <th>AMZN</th>\n",
       "      <th>FB</th>\n",
       "      <th>...</th>\n",
       "      <th>IBM</th>\n",
       "      <th>MMM</th>\n",
       "      <th>AMZN</th>\n",
       "      <th>FB</th>\n",
       "      <th>IBM</th>\n",
       "      <th>MMM</th>\n",
       "      <th>AMZN</th>\n",
       "      <th>FB</th>\n",
       "      <th>IBM</th>\n",
       "      <th>MMM</th>\n",
       "    </tr>\n",
       "  </thead>\n",
       "  <tbody>\n",
       "    <tr>\n",
       "      <th>count</th>\n",
       "      <td>1259.000000</td>\n",
       "      <td>1259.000000</td>\n",
       "      <td>1259.000000</td>\n",
       "      <td>1259.000000</td>\n",
       "      <td>1259.000000</td>\n",
       "      <td>1259.000000</td>\n",
       "      <td>1259.000000</td>\n",
       "      <td>1259.000000</td>\n",
       "      <td>1259.000000</td>\n",
       "      <td>1259.000000</td>\n",
       "      <td>...</td>\n",
       "      <td>1259.000000</td>\n",
       "      <td>1259.000000</td>\n",
       "      <td>1259.000000</td>\n",
       "      <td>1259.000000</td>\n",
       "      <td>1259.000000</td>\n",
       "      <td>1259.000000</td>\n",
       "      <td>1.259000e+03</td>\n",
       "      <td>1.259000e+03</td>\n",
       "      <td>1.259000e+03</td>\n",
       "      <td>1.259000e+03</td>\n",
       "    </tr>\n",
       "    <tr>\n",
       "      <th>mean</th>\n",
       "      <td>2176.441279</td>\n",
       "      <td>218.223709</td>\n",
       "      <td>116.014835</td>\n",
       "      <td>172.288243</td>\n",
       "      <td>2176.441279</td>\n",
       "      <td>218.223709</td>\n",
       "      <td>131.880207</td>\n",
       "      <td>187.846211</td>\n",
       "      <td>2201.056082</td>\n",
       "      <td>220.842033</td>\n",
       "      <td>...</td>\n",
       "      <td>130.815236</td>\n",
       "      <td>186.225591</td>\n",
       "      <td>2177.742003</td>\n",
       "      <td>218.164694</td>\n",
       "      <td>131.919588</td>\n",
       "      <td>187.943924</td>\n",
       "      <td>4.300202e+06</td>\n",
       "      <td>2.119758e+07</td>\n",
       "      <td>5.175547e+06</td>\n",
       "      <td>2.659668e+06</td>\n",
       "    </tr>\n",
       "    <tr>\n",
       "      <th>std</th>\n",
       "      <td>858.933747</td>\n",
       "      <td>65.247004</td>\n",
       "      <td>9.750713</td>\n",
       "      <td>19.284048</td>\n",
       "      <td>858.933747</td>\n",
       "      <td>65.247004</td>\n",
       "      <td>12.751748</td>\n",
       "      <td>24.857358</td>\n",
       "      <td>870.770894</td>\n",
       "      <td>66.084506</td>\n",
       "      <td>...</td>\n",
       "      <td>12.947600</td>\n",
       "      <td>24.928971</td>\n",
       "      <td>860.299712</td>\n",
       "      <td>65.247536</td>\n",
       "      <td>12.807493</td>\n",
       "      <td>24.799576</td>\n",
       "      <td>2.062667e+06</td>\n",
       "      <td>1.394914e+07</td>\n",
       "      <td>3.197312e+06</td>\n",
       "      <td>1.409974e+06</td>\n",
       "    </tr>\n",
       "    <tr>\n",
       "      <th>min</th>\n",
       "      <td>843.200012</td>\n",
       "      <td>124.059998</td>\n",
       "      <td>81.544205</td>\n",
       "      <td>110.075874</td>\n",
       "      <td>843.200012</td>\n",
       "      <td>124.059998</td>\n",
       "      <td>90.602295</td>\n",
       "      <td>117.870003</td>\n",
       "      <td>849.369995</td>\n",
       "      <td>129.740005</td>\n",
       "      <td>...</td>\n",
       "      <td>86.577438</td>\n",
       "      <td>114.040001</td>\n",
       "      <td>838.070007</td>\n",
       "      <td>123.099998</td>\n",
       "      <td>90.439774</td>\n",
       "      <td>122.290001</td>\n",
       "      <td>8.813000e+05</td>\n",
       "      <td>6.046300e+06</td>\n",
       "      <td>1.247878e+06</td>\n",
       "      <td>6.562000e+05</td>\n",
       "    </tr>\n",
       "    <tr>\n",
       "      <th>25%</th>\n",
       "      <td>1592.150024</td>\n",
       "      <td>170.980003</td>\n",
       "      <td>110.578308</td>\n",
       "      <td>157.245148</td>\n",
       "      <td>1592.150024</td>\n",
       "      <td>170.980003</td>\n",
       "      <td>121.529636</td>\n",
       "      <td>168.830002</td>\n",
       "      <td>1608.119995</td>\n",
       "      <td>172.430000</td>\n",
       "      <td>...</td>\n",
       "      <td>120.216042</td>\n",
       "      <td>166.855003</td>\n",
       "      <td>1595.000000</td>\n",
       "      <td>171.055000</td>\n",
       "      <td>121.577438</td>\n",
       "      <td>168.385002</td>\n",
       "      <td>2.912250e+06</td>\n",
       "      <td>1.348175e+07</td>\n",
       "      <td>3.437574e+06</td>\n",
       "      <td>1.812400e+06</td>\n",
       "    </tr>\n",
       "    <tr>\n",
       "      <th>50%</th>\n",
       "      <td>1871.150024</td>\n",
       "      <td>190.160004</td>\n",
       "      <td>115.381493</td>\n",
       "      <td>173.839569</td>\n",
       "      <td>1871.150024</td>\n",
       "      <td>190.160004</td>\n",
       "      <td>133.298279</td>\n",
       "      <td>189.960007</td>\n",
       "      <td>1893.699951</td>\n",
       "      <td>192.740005</td>\n",
       "      <td>...</td>\n",
       "      <td>132.380005</td>\n",
       "      <td>188.570007</td>\n",
       "      <td>1874.790039</td>\n",
       "      <td>190.660004</td>\n",
       "      <td>133.250000</td>\n",
       "      <td>189.759995</td>\n",
       "      <td>3.710900e+06</td>\n",
       "      <td>1.753520e+07</td>\n",
       "      <td>4.373117e+06</td>\n",
       "      <td>2.264900e+06</td>\n",
       "    </tr>\n",
       "    <tr>\n",
       "      <th>75%</th>\n",
       "      <td>3145.509888</td>\n",
       "      <td>266.865005</td>\n",
       "      <td>121.444489</td>\n",
       "      <td>186.498062</td>\n",
       "      <td>3145.509888</td>\n",
       "      <td>266.865005</td>\n",
       "      <td>139.627144</td>\n",
       "      <td>204.510002</td>\n",
       "      <td>3186.119995</td>\n",
       "      <td>270.434998</td>\n",
       "      <td>...</td>\n",
       "      <td>138.766731</td>\n",
       "      <td>202.915001</td>\n",
       "      <td>3149.945068</td>\n",
       "      <td>267.820007</td>\n",
       "      <td>139.918739</td>\n",
       "      <td>204.355003</td>\n",
       "      <td>5.082200e+06</td>\n",
       "      <td>2.425140e+07</td>\n",
       "      <td>5.709655e+06</td>\n",
       "      <td>3.003350e+06</td>\n",
       "    </tr>\n",
       "    <tr>\n",
       "      <th>max</th>\n",
       "      <td>3731.409912</td>\n",
       "      <td>382.179993</td>\n",
       "      <td>139.345001</td>\n",
       "      <td>225.574570</td>\n",
       "      <td>3731.409912</td>\n",
       "      <td>382.179993</td>\n",
       "      <td>167.973236</td>\n",
       "      <td>258.630005</td>\n",
       "      <td>3773.080078</td>\n",
       "      <td>384.329987</td>\n",
       "      <td>...</td>\n",
       "      <td>167.925430</td>\n",
       "      <td>255.970001</td>\n",
       "      <td>3744.000000</td>\n",
       "      <td>381.679993</td>\n",
       "      <td>168.537292</td>\n",
       "      <td>258.510010</td>\n",
       "      <td>1.656500e+07</td>\n",
       "      <td>1.881199e+08</td>\n",
       "      <td>3.981442e+07</td>\n",
       "      <td>1.464620e+07</td>\n",
       "    </tr>\n",
       "  </tbody>\n",
       "</table>\n",
       "<p>8 rows × 24 columns</p>\n",
       "</div>"
      ],
      "text/plain": [
       "         Adj Close                                               Close  \\\n",
       "              AMZN           FB          IBM          MMM         AMZN   \n",
       "count  1259.000000  1259.000000  1259.000000  1259.000000  1259.000000   \n",
       "mean   2176.441279   218.223709   116.014835   172.288243  2176.441279   \n",
       "std     858.933747    65.247004     9.750713    19.284048   858.933747   \n",
       "min     843.200012   124.059998    81.544205   110.075874   843.200012   \n",
       "25%    1592.150024   170.980003   110.578308   157.245148  1592.150024   \n",
       "50%    1871.150024   190.160004   115.381493   173.839569  1871.150024   \n",
       "75%    3145.509888   266.865005   121.444489   186.498062  3145.509888   \n",
       "max    3731.409912   382.179993   139.345001   225.574570  3731.409912   \n",
       "\n",
       "                                                     High               ...  \\\n",
       "                FB          IBM          MMM         AMZN           FB  ...   \n",
       "count  1259.000000  1259.000000  1259.000000  1259.000000  1259.000000  ...   \n",
       "mean    218.223709   131.880207   187.846211  2201.056082   220.842033  ...   \n",
       "std      65.247004    12.751748    24.857358   870.770894    66.084506  ...   \n",
       "min     124.059998    90.602295   117.870003   849.369995   129.740005  ...   \n",
       "25%     170.980003   121.529636   168.830002  1608.119995   172.430000  ...   \n",
       "50%     190.160004   133.298279   189.960007  1893.699951   192.740005  ...   \n",
       "75%     266.865005   139.627144   204.510002  3186.119995   270.434998  ...   \n",
       "max     382.179993   167.973236   258.630005  3773.080078   384.329987  ...   \n",
       "\n",
       "               Low                      Open                            \\\n",
       "               IBM          MMM         AMZN           FB          IBM   \n",
       "count  1259.000000  1259.000000  1259.000000  1259.000000  1259.000000   \n",
       "mean    130.815236   186.225591  2177.742003   218.164694   131.919588   \n",
       "std      12.947600    24.928971   860.299712    65.247536    12.807493   \n",
       "min      86.577438   114.040001   838.070007   123.099998    90.439774   \n",
       "25%     120.216042   166.855003  1595.000000   171.055000   121.577438   \n",
       "50%     132.380005   188.570007  1874.790039   190.660004   133.250000   \n",
       "75%     138.766731   202.915001  3149.945068   267.820007   139.918739   \n",
       "max     167.925430   255.970001  3744.000000   381.679993   168.537292   \n",
       "\n",
       "                          Volume                                            \n",
       "               MMM          AMZN            FB           IBM           MMM  \n",
       "count  1259.000000  1.259000e+03  1.259000e+03  1.259000e+03  1.259000e+03  \n",
       "mean    187.943924  4.300202e+06  2.119758e+07  5.175547e+06  2.659668e+06  \n",
       "std      24.799576  2.062667e+06  1.394914e+07  3.197312e+06  1.409974e+06  \n",
       "min     122.290001  8.813000e+05  6.046300e+06  1.247878e+06  6.562000e+05  \n",
       "25%     168.385002  2.912250e+06  1.348175e+07  3.437574e+06  1.812400e+06  \n",
       "50%     189.759995  3.710900e+06  1.753520e+07  4.373117e+06  2.264900e+06  \n",
       "75%     204.355003  5.082200e+06  2.425140e+07  5.709655e+06  3.003350e+06  \n",
       "max     258.510010  1.656500e+07  1.881199e+08  3.981442e+07  1.464620e+07  \n",
       "\n",
       "[8 rows x 24 columns]"
      ]
     },
     "execution_count": 15,
     "metadata": {},
     "output_type": "execute_result"
    }
   ],
   "source": [
    "all_stocks.describe(include='all')"
   ]
  },
  {
   "cell_type": "code",
   "execution_count": 16,
   "metadata": {},
   "outputs": [
    {
     "data": {
      "text/plain": [
       "MultiIndex([('Adj Close', 'AMZN'),\n",
       "            ('Adj Close',   'FB'),\n",
       "            ('Adj Close',  'IBM'),\n",
       "            ('Adj Close',  'MMM'),\n",
       "            (    'Close', 'AMZN'),\n",
       "            (    'Close',   'FB'),\n",
       "            (    'Close',  'IBM'),\n",
       "            (    'Close',  'MMM'),\n",
       "            (     'High', 'AMZN'),\n",
       "            (     'High',   'FB'),\n",
       "            (     'High',  'IBM'),\n",
       "            (     'High',  'MMM'),\n",
       "            (      'Low', 'AMZN'),\n",
       "            (      'Low',   'FB'),\n",
       "            (      'Low',  'IBM'),\n",
       "            (      'Low',  'MMM'),\n",
       "            (     'Open', 'AMZN'),\n",
       "            (     'Open',   'FB'),\n",
       "            (     'Open',  'IBM'),\n",
       "            (     'Open',  'MMM'),\n",
       "            (   'Volume', 'AMZN'),\n",
       "            (   'Volume',   'FB'),\n",
       "            (   'Volume',  'IBM'),\n",
       "            (   'Volume',  'MMM')],\n",
       "           )"
      ]
     },
     "execution_count": 16,
     "metadata": {},
     "output_type": "execute_result"
    }
   ],
   "source": [
    "all_stocks.columns"
   ]
  },
  {
   "cell_type": "code",
   "execution_count": 17,
   "metadata": {},
   "outputs": [
    {
     "data": {
      "text/plain": [
       "Adj Close  AMZN    0\n",
       "           FB      0\n",
       "           IBM     0\n",
       "           MMM     0\n",
       "Close      AMZN    0\n",
       "           FB      0\n",
       "           IBM     0\n",
       "           MMM     0\n",
       "High       AMZN    0\n",
       "           FB      0\n",
       "           IBM     0\n",
       "           MMM     0\n",
       "Low        AMZN    0\n",
       "           FB      0\n",
       "           IBM     0\n",
       "           MMM     0\n",
       "Open       AMZN    0\n",
       "           FB      0\n",
       "           IBM     0\n",
       "           MMM     0\n",
       "Volume     AMZN    0\n",
       "           FB      0\n",
       "           IBM     0\n",
       "           MMM     0\n",
       "dtype: int64"
      ]
     },
     "execution_count": 17,
     "metadata": {},
     "output_type": "execute_result"
    }
   ],
   "source": [
    "all_stocks.isnull().sum()"
   ]
  },
  {
   "cell_type": "markdown",
   "metadata": {},
   "source": [
    "### 2 (4 points) Download the adjusted close prices for FB, MMM, IBM and AMZN for the last 60 months. "
   ]
  },
  {
   "cell_type": "code",
   "execution_count": 18,
   "metadata": {},
   "outputs": [
    {
     "name": "stdout",
     "output_type": "stream",
     "text": [
      "[*********************100%***********************]  4 of 4 completed\n"
     ]
    }
   ],
   "source": [
    "# Download only adjusted close prices per stock \n",
    "adj_all_stocks = yf.download(all_stocks_list, start = start, end = end)['Adj Close']"
   ]
  },
  {
   "cell_type": "code",
   "execution_count": 19,
   "metadata": {},
   "outputs": [],
   "source": [
    "# Download to csv\n",
    "adj_all_stocks.to_csv(r'/Users/iswaryaah/Downloads/A2/adj_all_stocks.csv', index = True)"
   ]
  },
  {
   "cell_type": "markdown",
   "metadata": {},
   "source": []
  },
  {
   "cell_type": "code",
   "execution_count": 20,
   "metadata": {},
   "outputs": [
    {
     "data": {
      "text/html": [
       "<div>\n",
       "<style scoped>\n",
       "    .dataframe tbody tr th:only-of-type {\n",
       "        vertical-align: middle;\n",
       "    }\n",
       "\n",
       "    .dataframe tbody tr th {\n",
       "        vertical-align: top;\n",
       "    }\n",
       "\n",
       "    .dataframe thead th {\n",
       "        text-align: right;\n",
       "    }\n",
       "</style>\n",
       "<table border=\"1\" class=\"dataframe\">\n",
       "  <thead>\n",
       "    <tr style=\"text-align: right;\">\n",
       "      <th></th>\n",
       "      <th>AMZN</th>\n",
       "      <th>FB</th>\n",
       "      <th>IBM</th>\n",
       "      <th>MMM</th>\n",
       "    </tr>\n",
       "    <tr>\n",
       "      <th>Date</th>\n",
       "      <th></th>\n",
       "      <th></th>\n",
       "      <th></th>\n",
       "      <th></th>\n",
       "    </tr>\n",
       "  </thead>\n",
       "  <tbody>\n",
       "    <tr>\n",
       "      <th>2017-03-17</th>\n",
       "      <td>852.309998</td>\n",
       "      <td>139.839996</td>\n",
       "      <td>131.688858</td>\n",
       "      <td>164.992340</td>\n",
       "    </tr>\n",
       "    <tr>\n",
       "      <th>2017-03-20</th>\n",
       "      <td>856.969971</td>\n",
       "      <td>139.940002</td>\n",
       "      <td>131.726364</td>\n",
       "      <td>165.549835</td>\n",
       "    </tr>\n",
       "    <tr>\n",
       "      <th>2017-03-21</th>\n",
       "      <td>843.200012</td>\n",
       "      <td>138.509995</td>\n",
       "      <td>130.361847</td>\n",
       "      <td>164.795013</td>\n",
       "    </tr>\n",
       "    <tr>\n",
       "      <th>2017-03-22</th>\n",
       "      <td>848.059998</td>\n",
       "      <td>139.589996</td>\n",
       "      <td>131.036575</td>\n",
       "      <td>164.872253</td>\n",
       "    </tr>\n",
       "    <tr>\n",
       "      <th>2017-03-23</th>\n",
       "      <td>847.380005</td>\n",
       "      <td>139.529999</td>\n",
       "      <td>131.066589</td>\n",
       "      <td>164.803589</td>\n",
       "    </tr>\n",
       "    <tr>\n",
       "      <th>...</th>\n",
       "      <td>...</td>\n",
       "      <td>...</td>\n",
       "      <td>...</td>\n",
       "      <td>...</td>\n",
       "    </tr>\n",
       "    <tr>\n",
       "      <th>2022-03-10</th>\n",
       "      <td>2936.350098</td>\n",
       "      <td>195.210007</td>\n",
       "      <td>124.349998</td>\n",
       "      <td>143.929993</td>\n",
       "    </tr>\n",
       "    <tr>\n",
       "      <th>2022-03-11</th>\n",
       "      <td>2910.489990</td>\n",
       "      <td>187.610001</td>\n",
       "      <td>123.959999</td>\n",
       "      <td>140.960007</td>\n",
       "    </tr>\n",
       "    <tr>\n",
       "      <th>2022-03-14</th>\n",
       "      <td>2837.060059</td>\n",
       "      <td>186.630005</td>\n",
       "      <td>123.940002</td>\n",
       "      <td>143.479996</td>\n",
       "    </tr>\n",
       "    <tr>\n",
       "      <th>2022-03-15</th>\n",
       "      <td>2947.330078</td>\n",
       "      <td>192.029999</td>\n",
       "      <td>125.639999</td>\n",
       "      <td>144.309998</td>\n",
       "    </tr>\n",
       "    <tr>\n",
       "      <th>2022-03-16</th>\n",
       "      <td>3062.080078</td>\n",
       "      <td>203.630005</td>\n",
       "      <td>127.040001</td>\n",
       "      <td>145.509995</td>\n",
       "    </tr>\n",
       "  </tbody>\n",
       "</table>\n",
       "<p>1259 rows × 4 columns</p>\n",
       "</div>"
      ],
      "text/plain": [
       "                   AMZN          FB         IBM         MMM\n",
       "Date                                                       \n",
       "2017-03-17   852.309998  139.839996  131.688858  164.992340\n",
       "2017-03-20   856.969971  139.940002  131.726364  165.549835\n",
       "2017-03-21   843.200012  138.509995  130.361847  164.795013\n",
       "2017-03-22   848.059998  139.589996  131.036575  164.872253\n",
       "2017-03-23   847.380005  139.529999  131.066589  164.803589\n",
       "...                 ...         ...         ...         ...\n",
       "2022-03-10  2936.350098  195.210007  124.349998  143.929993\n",
       "2022-03-11  2910.489990  187.610001  123.959999  140.960007\n",
       "2022-03-14  2837.060059  186.630005  123.940002  143.479996\n",
       "2022-03-15  2947.330078  192.029999  125.639999  144.309998\n",
       "2022-03-16  3062.080078  203.630005  127.040001  145.509995\n",
       "\n",
       "[1259 rows x 4 columns]"
      ]
     },
     "execution_count": 20,
     "metadata": {},
     "output_type": "execute_result"
    }
   ],
   "source": [
    "adj_all_stocks"
   ]
  },
  {
   "cell_type": "code",
   "execution_count": 21,
   "metadata": {},
   "outputs": [
    {
     "data": {
      "text/html": [
       "<div>\n",
       "<style scoped>\n",
       "    .dataframe tbody tr th:only-of-type {\n",
       "        vertical-align: middle;\n",
       "    }\n",
       "\n",
       "    .dataframe tbody tr th {\n",
       "        vertical-align: top;\n",
       "    }\n",
       "\n",
       "    .dataframe thead th {\n",
       "        text-align: right;\n",
       "    }\n",
       "</style>\n",
       "<table border=\"1\" class=\"dataframe\">\n",
       "  <thead>\n",
       "    <tr style=\"text-align: right;\">\n",
       "      <th></th>\n",
       "      <th>AMZN</th>\n",
       "      <th>FB</th>\n",
       "      <th>IBM</th>\n",
       "      <th>MMM</th>\n",
       "    </tr>\n",
       "    <tr>\n",
       "      <th>Date</th>\n",
       "      <th></th>\n",
       "      <th></th>\n",
       "      <th></th>\n",
       "      <th></th>\n",
       "    </tr>\n",
       "  </thead>\n",
       "  <tbody>\n",
       "    <tr>\n",
       "      <th>2017-03-17</th>\n",
       "      <td>852.309998</td>\n",
       "      <td>139.839996</td>\n",
       "      <td>131.688858</td>\n",
       "      <td>164.992340</td>\n",
       "    </tr>\n",
       "    <tr>\n",
       "      <th>2017-03-20</th>\n",
       "      <td>856.969971</td>\n",
       "      <td>139.940002</td>\n",
       "      <td>131.726364</td>\n",
       "      <td>165.549835</td>\n",
       "    </tr>\n",
       "    <tr>\n",
       "      <th>2017-03-21</th>\n",
       "      <td>843.200012</td>\n",
       "      <td>138.509995</td>\n",
       "      <td>130.361847</td>\n",
       "      <td>164.795013</td>\n",
       "    </tr>\n",
       "    <tr>\n",
       "      <th>2017-03-22</th>\n",
       "      <td>848.059998</td>\n",
       "      <td>139.589996</td>\n",
       "      <td>131.036575</td>\n",
       "      <td>164.872253</td>\n",
       "    </tr>\n",
       "    <tr>\n",
       "      <th>2017-03-23</th>\n",
       "      <td>847.380005</td>\n",
       "      <td>139.529999</td>\n",
       "      <td>131.066589</td>\n",
       "      <td>164.803589</td>\n",
       "    </tr>\n",
       "  </tbody>\n",
       "</table>\n",
       "</div>"
      ],
      "text/plain": [
       "                  AMZN          FB         IBM         MMM\n",
       "Date                                                      \n",
       "2017-03-17  852.309998  139.839996  131.688858  164.992340\n",
       "2017-03-20  856.969971  139.940002  131.726364  165.549835\n",
       "2017-03-21  843.200012  138.509995  130.361847  164.795013\n",
       "2017-03-22  848.059998  139.589996  131.036575  164.872253\n",
       "2017-03-23  847.380005  139.529999  131.066589  164.803589"
      ]
     },
     "execution_count": 21,
     "metadata": {},
     "output_type": "execute_result"
    }
   ],
   "source": [
    "adj_all_stocks.head()"
   ]
  },
  {
   "cell_type": "code",
   "execution_count": 22,
   "metadata": {},
   "outputs": [
    {
     "data": {
      "text/html": [
       "<div>\n",
       "<style scoped>\n",
       "    .dataframe tbody tr th:only-of-type {\n",
       "        vertical-align: middle;\n",
       "    }\n",
       "\n",
       "    .dataframe tbody tr th {\n",
       "        vertical-align: top;\n",
       "    }\n",
       "\n",
       "    .dataframe thead th {\n",
       "        text-align: right;\n",
       "    }\n",
       "</style>\n",
       "<table border=\"1\" class=\"dataframe\">\n",
       "  <thead>\n",
       "    <tr style=\"text-align: right;\">\n",
       "      <th></th>\n",
       "      <th>AMZN</th>\n",
       "      <th>FB</th>\n",
       "      <th>IBM</th>\n",
       "      <th>MMM</th>\n",
       "    </tr>\n",
       "    <tr>\n",
       "      <th>Date</th>\n",
       "      <th></th>\n",
       "      <th></th>\n",
       "      <th></th>\n",
       "      <th></th>\n",
       "    </tr>\n",
       "  </thead>\n",
       "  <tbody>\n",
       "    <tr>\n",
       "      <th>2022-03-10</th>\n",
       "      <td>2936.350098</td>\n",
       "      <td>195.210007</td>\n",
       "      <td>124.349998</td>\n",
       "      <td>143.929993</td>\n",
       "    </tr>\n",
       "    <tr>\n",
       "      <th>2022-03-11</th>\n",
       "      <td>2910.489990</td>\n",
       "      <td>187.610001</td>\n",
       "      <td>123.959999</td>\n",
       "      <td>140.960007</td>\n",
       "    </tr>\n",
       "    <tr>\n",
       "      <th>2022-03-14</th>\n",
       "      <td>2837.060059</td>\n",
       "      <td>186.630005</td>\n",
       "      <td>123.940002</td>\n",
       "      <td>143.479996</td>\n",
       "    </tr>\n",
       "    <tr>\n",
       "      <th>2022-03-15</th>\n",
       "      <td>2947.330078</td>\n",
       "      <td>192.029999</td>\n",
       "      <td>125.639999</td>\n",
       "      <td>144.309998</td>\n",
       "    </tr>\n",
       "    <tr>\n",
       "      <th>2022-03-16</th>\n",
       "      <td>3062.080078</td>\n",
       "      <td>203.630005</td>\n",
       "      <td>127.040001</td>\n",
       "      <td>145.509995</td>\n",
       "    </tr>\n",
       "  </tbody>\n",
       "</table>\n",
       "</div>"
      ],
      "text/plain": [
       "                   AMZN          FB         IBM         MMM\n",
       "Date                                                       \n",
       "2022-03-10  2936.350098  195.210007  124.349998  143.929993\n",
       "2022-03-11  2910.489990  187.610001  123.959999  140.960007\n",
       "2022-03-14  2837.060059  186.630005  123.940002  143.479996\n",
       "2022-03-15  2947.330078  192.029999  125.639999  144.309998\n",
       "2022-03-16  3062.080078  203.630005  127.040001  145.509995"
      ]
     },
     "execution_count": 22,
     "metadata": {},
     "output_type": "execute_result"
    }
   ],
   "source": [
    "adj_all_stocks.tail()"
   ]
  },
  {
   "cell_type": "code",
   "execution_count": 23,
   "metadata": {},
   "outputs": [
    {
     "data": {
      "text/plain": [
       "(1259, 4)"
      ]
     },
     "execution_count": 23,
     "metadata": {},
     "output_type": "execute_result"
    }
   ],
   "source": [
    "adj_all_stocks.shape"
   ]
  },
  {
   "cell_type": "code",
   "execution_count": 24,
   "metadata": {},
   "outputs": [
    {
     "name": "stdout",
     "output_type": "stream",
     "text": [
      "<class 'pandas.core.frame.DataFrame'>\n",
      "DatetimeIndex: 1259 entries, 2017-03-17 to 2022-03-16\n",
      "Data columns (total 4 columns):\n",
      " #   Column  Non-Null Count  Dtype  \n",
      "---  ------  --------------  -----  \n",
      " 0   AMZN    1259 non-null   float64\n",
      " 1   FB      1259 non-null   float64\n",
      " 2   IBM     1259 non-null   float64\n",
      " 3   MMM     1259 non-null   float64\n",
      "dtypes: float64(4)\n",
      "memory usage: 49.2 KB\n"
     ]
    }
   ],
   "source": [
    "adj_all_stocks.info()"
   ]
  },
  {
   "cell_type": "code",
   "execution_count": 25,
   "metadata": {},
   "outputs": [
    {
     "data": {
      "text/html": [
       "<div>\n",
       "<style scoped>\n",
       "    .dataframe tbody tr th:only-of-type {\n",
       "        vertical-align: middle;\n",
       "    }\n",
       "\n",
       "    .dataframe tbody tr th {\n",
       "        vertical-align: top;\n",
       "    }\n",
       "\n",
       "    .dataframe thead th {\n",
       "        text-align: right;\n",
       "    }\n",
       "</style>\n",
       "<table border=\"1\" class=\"dataframe\">\n",
       "  <thead>\n",
       "    <tr style=\"text-align: right;\">\n",
       "      <th></th>\n",
       "      <th>AMZN</th>\n",
       "      <th>FB</th>\n",
       "      <th>IBM</th>\n",
       "      <th>MMM</th>\n",
       "    </tr>\n",
       "  </thead>\n",
       "  <tbody>\n",
       "    <tr>\n",
       "      <th>count</th>\n",
       "      <td>1259.000000</td>\n",
       "      <td>1259.000000</td>\n",
       "      <td>1259.000000</td>\n",
       "      <td>1259.000000</td>\n",
       "    </tr>\n",
       "    <tr>\n",
       "      <th>mean</th>\n",
       "      <td>2176.441279</td>\n",
       "      <td>218.223709</td>\n",
       "      <td>116.014835</td>\n",
       "      <td>172.288243</td>\n",
       "    </tr>\n",
       "    <tr>\n",
       "      <th>std</th>\n",
       "      <td>858.933747</td>\n",
       "      <td>65.247004</td>\n",
       "      <td>9.750713</td>\n",
       "      <td>19.284047</td>\n",
       "    </tr>\n",
       "    <tr>\n",
       "      <th>min</th>\n",
       "      <td>843.200012</td>\n",
       "      <td>124.059998</td>\n",
       "      <td>81.544197</td>\n",
       "      <td>110.075874</td>\n",
       "    </tr>\n",
       "    <tr>\n",
       "      <th>25%</th>\n",
       "      <td>1592.150024</td>\n",
       "      <td>170.980003</td>\n",
       "      <td>110.578312</td>\n",
       "      <td>157.245148</td>\n",
       "    </tr>\n",
       "    <tr>\n",
       "      <th>50%</th>\n",
       "      <td>1871.150024</td>\n",
       "      <td>190.160004</td>\n",
       "      <td>115.381485</td>\n",
       "      <td>173.839569</td>\n",
       "    </tr>\n",
       "    <tr>\n",
       "      <th>75%</th>\n",
       "      <td>3145.509888</td>\n",
       "      <td>266.865005</td>\n",
       "      <td>121.444485</td>\n",
       "      <td>186.498077</td>\n",
       "    </tr>\n",
       "    <tr>\n",
       "      <th>max</th>\n",
       "      <td>3731.409912</td>\n",
       "      <td>382.179993</td>\n",
       "      <td>139.344986</td>\n",
       "      <td>225.574585</td>\n",
       "    </tr>\n",
       "  </tbody>\n",
       "</table>\n",
       "</div>"
      ],
      "text/plain": [
       "              AMZN           FB          IBM          MMM\n",
       "count  1259.000000  1259.000000  1259.000000  1259.000000\n",
       "mean   2176.441279   218.223709   116.014835   172.288243\n",
       "std     858.933747    65.247004     9.750713    19.284047\n",
       "min     843.200012   124.059998    81.544197   110.075874\n",
       "25%    1592.150024   170.980003   110.578312   157.245148\n",
       "50%    1871.150024   190.160004   115.381485   173.839569\n",
       "75%    3145.509888   266.865005   121.444485   186.498077\n",
       "max    3731.409912   382.179993   139.344986   225.574585"
      ]
     },
     "execution_count": 25,
     "metadata": {},
     "output_type": "execute_result"
    }
   ],
   "source": [
    "adj_all_stocks.describe(include='all')"
   ]
  },
  {
   "cell_type": "code",
   "execution_count": 26,
   "metadata": {},
   "outputs": [
    {
     "data": {
      "text/plain": [
       "Index(['AMZN', 'FB', 'IBM', 'MMM'], dtype='object')"
      ]
     },
     "execution_count": 26,
     "metadata": {},
     "output_type": "execute_result"
    }
   ],
   "source": [
    "adj_all_stocks.columns"
   ]
  },
  {
   "cell_type": "code",
   "execution_count": 27,
   "metadata": {},
   "outputs": [
    {
     "data": {
      "text/plain": [
       "AMZN    0\n",
       "FB      0\n",
       "IBM     0\n",
       "MMM     0\n",
       "dtype: int64"
      ]
     },
     "execution_count": 27,
     "metadata": {},
     "output_type": "execute_result"
    }
   ],
   "source": [
    "adj_all_stocks.isnull().sum()"
   ]
  },
  {
   "cell_type": "markdown",
   "metadata": {},
   "source": [
    "### 3 (6 points) Resample the data to get prices for the end of the business month. Select the Adjusted Close for each stock"
   ]
  },
  {
   "cell_type": "code",
   "execution_count": 28,
   "metadata": {},
   "outputs": [
    {
     "data": {
      "text/html": [
       "<div>\n",
       "<style scoped>\n",
       "    .dataframe tbody tr th:only-of-type {\n",
       "        vertical-align: middle;\n",
       "    }\n",
       "\n",
       "    .dataframe tbody tr th {\n",
       "        vertical-align: top;\n",
       "    }\n",
       "\n",
       "    .dataframe thead th {\n",
       "        text-align: right;\n",
       "    }\n",
       "</style>\n",
       "<table border=\"1\" class=\"dataframe\">\n",
       "  <thead>\n",
       "    <tr style=\"text-align: right;\">\n",
       "      <th></th>\n",
       "      <th>AMZN</th>\n",
       "      <th>FB</th>\n",
       "      <th>IBM</th>\n",
       "      <th>MMM</th>\n",
       "    </tr>\n",
       "    <tr>\n",
       "      <th>Date</th>\n",
       "      <th></th>\n",
       "      <th></th>\n",
       "      <th></th>\n",
       "      <th></th>\n",
       "    </tr>\n",
       "  </thead>\n",
       "  <tbody>\n",
       "    <tr>\n",
       "      <th>2017-03-31</th>\n",
       "      <td>886.539978</td>\n",
       "      <td>142.050003</td>\n",
       "      <td>130.556778</td>\n",
       "      <td>164.108856</td>\n",
       "    </tr>\n",
       "    <tr>\n",
       "      <th>2017-04-28</th>\n",
       "      <td>924.989990</td>\n",
       "      <td>150.250000</td>\n",
       "      <td>120.173149</td>\n",
       "      <td>167.968628</td>\n",
       "    </tr>\n",
       "    <tr>\n",
       "      <th>2017-05-31</th>\n",
       "      <td>994.619995</td>\n",
       "      <td>151.460007</td>\n",
       "      <td>115.600021</td>\n",
       "      <td>176.426849</td>\n",
       "    </tr>\n",
       "    <tr>\n",
       "      <th>2017-06-30</th>\n",
       "      <td>968.000000</td>\n",
       "      <td>150.979996</td>\n",
       "      <td>116.508911</td>\n",
       "      <td>179.636627</td>\n",
       "    </tr>\n",
       "    <tr>\n",
       "      <th>2017-07-31</th>\n",
       "      <td>987.780029</td>\n",
       "      <td>169.250000</td>\n",
       "      <td>109.571251</td>\n",
       "      <td>173.579407</td>\n",
       "    </tr>\n",
       "    <tr>\n",
       "      <th>...</th>\n",
       "      <td>...</td>\n",
       "      <td>...</td>\n",
       "      <td>...</td>\n",
       "      <td>...</td>\n",
       "    </tr>\n",
       "    <tr>\n",
       "      <th>2021-11-30</th>\n",
       "      <td>3507.070068</td>\n",
       "      <td>324.459991</td>\n",
       "      <td>115.706253</td>\n",
       "      <td>168.412033</td>\n",
       "    </tr>\n",
       "    <tr>\n",
       "      <th>2021-12-31</th>\n",
       "      <td>3334.340088</td>\n",
       "      <td>336.350006</td>\n",
       "      <td>132.069168</td>\n",
       "      <td>175.929382</td>\n",
       "    </tr>\n",
       "    <tr>\n",
       "      <th>2022-01-31</th>\n",
       "      <td>2991.469971</td>\n",
       "      <td>313.260010</td>\n",
       "      <td>131.980240</td>\n",
       "      <td>164.430527</td>\n",
       "    </tr>\n",
       "    <tr>\n",
       "      <th>2022-02-28</th>\n",
       "      <td>3071.260010</td>\n",
       "      <td>211.029999</td>\n",
       "      <td>122.510002</td>\n",
       "      <td>148.649994</td>\n",
       "    </tr>\n",
       "    <tr>\n",
       "      <th>2022-03-31</th>\n",
       "      <td>3062.080078</td>\n",
       "      <td>203.630005</td>\n",
       "      <td>127.040001</td>\n",
       "      <td>145.509995</td>\n",
       "    </tr>\n",
       "  </tbody>\n",
       "</table>\n",
       "<p>61 rows × 4 columns</p>\n",
       "</div>"
      ],
      "text/plain": [
       "                   AMZN          FB         IBM         MMM\n",
       "Date                                                       \n",
       "2017-03-31   886.539978  142.050003  130.556778  164.108856\n",
       "2017-04-28   924.989990  150.250000  120.173149  167.968628\n",
       "2017-05-31   994.619995  151.460007  115.600021  176.426849\n",
       "2017-06-30   968.000000  150.979996  116.508911  179.636627\n",
       "2017-07-31   987.780029  169.250000  109.571251  173.579407\n",
       "...                 ...         ...         ...         ...\n",
       "2021-11-30  3507.070068  324.459991  115.706253  168.412033\n",
       "2021-12-31  3334.340088  336.350006  132.069168  175.929382\n",
       "2022-01-31  2991.469971  313.260010  131.980240  164.430527\n",
       "2022-02-28  3071.260010  211.029999  122.510002  148.649994\n",
       "2022-03-31  3062.080078  203.630005  127.040001  145.509995\n",
       "\n",
       "[61 rows x 4 columns]"
      ]
     },
     "execution_count": 28,
     "metadata": {},
     "output_type": "execute_result"
    }
   ],
   "source": [
    "adj_all_stocks.resample('BM').last()"
   ]
  },
  {
   "cell_type": "code",
   "execution_count": 29,
   "metadata": {},
   "outputs": [
    {
     "data": {
      "text/plain": [
       "<AxesSubplot:title={'center':'MonthEnd - Adjusted Close Prices'}, xlabel='Date'>"
      ]
     },
     "execution_count": 29,
     "metadata": {},
     "output_type": "execute_result"
    },
    {
     "data": {
      "image/png": "[encoded data removed]",
      "text/plain": [
       "<Figure size 720x576 with 1 Axes>"
      ]
     },
     "metadata": {
      "needs_background": "light"
     },
     "output_type": "display_data"
    }
   ],
   "source": [
    "adj_all_stocks.plot(style='-',title='MonthEnd - Adjusted Close Prices', figsize=(10,8))"
   ]
  },
  {
   "cell_type": "markdown",
   "metadata": {},
   "source": [
    "### 4 (6 points) Use the pandas autocorrelation_plot() function to plot the autocorrelation of the adjusted month-end close prices for each of the stocks. Are they autocorrelated? Provide short explanation."
   ]
  },
  {
   "cell_type": "code",
   "execution_count": 30,
   "metadata": {},
   "outputs": [
    {
     "name": "stdout",
     "output_type": "stream",
     "text": [
      "[*********************100%***********************]  1 of 1 completed\n",
      "[*********************100%***********************]  1 of 1 completed\n",
      "[*********************100%***********************]  1 of 1 completed\n",
      "[*********************100%***********************]  1 of 1 completed\n"
     ]
    }
   ],
   "source": [
    "amzn_ac_df = yf.download('AMZN', start=start, end = end)['Adj Close']\n",
    "fb_ac_df = yf.download('FB', start=start, end = end)['Adj Close']\n",
    "ibm_ac_df = yf.download('IBM', start=start, end = end)['Adj Close']\n",
    "mmm_ac_df = yf.download('MMM', start=start, end = end)['Adj Close']"
   ]
  },
  {
   "cell_type": "code",
   "execution_count": 31,
   "metadata": {},
   "outputs": [],
   "source": [
    "amzn_monthend = amzn_ac_df.resample('BM').last()\n",
    "fb_monthend = fb_ac_df.resample('BM').last()\n",
    "ibm_monthend = ibm_ac_df.resample('BM').last()\n",
    "mmm_monthend = mmm_ac_df.resample('BM').last()"
   ]
  },
  {
   "cell_type": "code",
   "execution_count": 32,
   "metadata": {},
   "outputs": [
    {
     "data": {
      "image/png": "[encoded data removed]",
      "text/plain": [
       "<Figure size 432x288 with 1 Axes>"
      ]
     },
     "metadata": {
      "needs_background": "light"
     },
     "output_type": "display_data"
    }
   ],
   "source": [
    "# Lag plot\n",
    "amzn_lag = pd.plotting.lag_plot(series=amzn_monthend, lag=1)"
   ]
  },
  {
   "cell_type": "code",
   "execution_count": 33,
   "metadata": {},
   "outputs": [
    {
     "data": {
      "image/png": "[encoded data removed]",
      "text/plain": [
       "<Figure size 432x288 with 1 Axes>"
      ]
     },
     "metadata": {
      "needs_background": "light"
     },
     "output_type": "display_data"
    }
   ],
   "source": [
    "# Lag plot\n",
    "fb_lag = pd.plotting.lag_plot(series=fb_monthend, lag=1)"
   ]
  },
  {
   "cell_type": "code",
   "execution_count": 34,
   "metadata": {},
   "outputs": [
    {
     "data": {
      "image/png": "[encoded data removed]",
      "text/plain": [
       "<Figure size 432x288 with 1 Axes>"
      ]
     },
     "metadata": {
      "needs_background": "light"
     },
     "output_type": "display_data"
    }
   ],
   "source": [
    "# Lag plot\n",
    "ibm_lag = pd.plotting.lag_plot(series=ibm_monthend, lag=1)"
   ]
  },
  {
   "cell_type": "code",
   "execution_count": 35,
   "metadata": {},
   "outputs": [
    {
     "data": {
      "image/png": "[encoded data removed]",
      "text/plain": [
       "<Figure size 432x288 with 1 Axes>"
      ]
     },
     "metadata": {
      "needs_background": "light"
     },
     "output_type": "display_data"
    }
   ],
   "source": [
    "# Lag plot\n",
    "mmm_lag = pd.plotting.lag_plot(series=mmm_monthend, lag=1)"
   ]
  },
  {
   "cell_type": "code",
   "execution_count": 36,
   "metadata": {},
   "outputs": [
    {
     "data": {
      "image/png": "[encoded data removed]",
      "text/plain": [
       "<Figure size 432x288 with 1 Axes>"
      ]
     },
     "metadata": {
      "needs_background": "light"
     },
     "output_type": "display_data"
    }
   ],
   "source": [
    "# Autocorrelation\n",
    "amzn_autocorrelation=pd.plotting.autocorrelation_plot(amzn_monthend)"
   ]
  },
  {
   "cell_type": "code",
   "execution_count": 37,
   "metadata": {},
   "outputs": [
    {
     "data": {
      "image/png": "[encoded data removed]",
      "text/plain": [
       "<Figure size 432x288 with 1 Axes>"
      ]
     },
     "metadata": {
      "needs_background": "light"
     },
     "output_type": "display_data"
    }
   ],
   "source": [
    "# Autocorrelation\n",
    "fb_autocorrelation=pd.plotting.autocorrelation_plot(fb_monthend)"
   ]
  },
  {
   "cell_type": "code",
   "execution_count": 38,
   "metadata": {},
   "outputs": [
    {
     "data": {
      "image/png": "[encoded data removed]",
      "text/plain": [
       "<Figure size 432x288 with 1 Axes>"
      ]
     },
     "metadata": {
      "needs_background": "light"
     },
     "output_type": "display_data"
    }
   ],
   "source": [
    "# Autocorrelation\n",
    "ibm_autocorrelation=pd.plotting.autocorrelation_plot(ibm_monthend)"
   ]
  },
  {
   "cell_type": "code",
   "execution_count": 39,
   "metadata": {},
   "outputs": [
    {
     "data": {
      "image/png": "[encoded data removed]",
      "text/plain": [
       "<Figure size 432x288 with 1 Axes>"
      ]
     },
     "metadata": {
      "needs_background": "light"
     },
     "output_type": "display_data"
    }
   ],
   "source": [
    "# Autocorrelation\n",
    "mmm_autocorrelation=pd.plotting.autocorrelation_plot(mmm_monthend)"
   ]
  },
  {
   "cell_type": "markdown",
   "metadata": {},
   "source": [
    "Use the pandas autocorrelation_plot() function to plot the autocorrelation of the adjusted month-end close prices for each of the stocks. Are they autocorrelated? Provide short explanation.\n",
    "\n",
    "- Here, we can observe some significant trend. Values aren't randomly distributed.\n",
    "\n",
    "- IBM's autocorrelation appears to be least significant compared to Amazon, Facebook and 3M."
   ]
  },
  {
   "cell_type": "markdown",
   "metadata": {},
   "source": [
    "### 5 (8 points)Calculate the monthly returns for each stock using the \"shift trick\" explained in the lecture, using shift() function. Use pandas autotocorrelation_plot() to plot the autocorrelation of the monthly returns. Are the returns autocorrelated? Provide short explanation."
   ]
  },
  {
   "cell_type": "code",
   "execution_count": 40,
   "metadata": {},
   "outputs": [
    {
     "data": {
      "text/plain": [
       "Date\n",
       "2017-03-31         NaN\n",
       "2017-04-28    4.337087\n",
       "2017-05-31    7.527650\n",
       "2017-06-30   -2.676399\n",
       "2017-07-31    2.043391\n",
       "Freq: BM, Name: Adj Close, dtype: float64"
      ]
     },
     "execution_count": 40,
     "metadata": {},
     "output_type": "execute_result"
    }
   ],
   "source": [
    "amzn_month_return = (amzn_monthend/amzn_monthend.shift(1)-1) * 100\n",
    "amzn_month_return.head()"
   ]
  },
  {
   "cell_type": "code",
   "execution_count": 41,
   "metadata": {},
   "outputs": [],
   "source": [
    "amzn_month_return = amzn_month_return.dropna()"
   ]
  },
  {
   "cell_type": "code",
   "execution_count": 42,
   "metadata": {},
   "outputs": [
    {
     "data": {
      "text/plain": [
       "<AxesSubplot:xlabel='Lag', ylabel='Autocorrelation'>"
      ]
     },
     "execution_count": 42,
     "metadata": {},
     "output_type": "execute_result"
    },
    {
     "data": {
      "image/png": "[encoded data removed]",
      "text/plain": [
       "<Figure size 432x288 with 1 Axes>"
      ]
     },
     "metadata": {
      "needs_background": "light"
     },
     "output_type": "display_data"
    }
   ],
   "source": [
    "pd.plotting.autocorrelation_plot(amzn_month_return)"
   ]
  },
  {
   "cell_type": "code",
   "execution_count": 43,
   "metadata": {},
   "outputs": [
    {
     "data": {
      "text/plain": [
       "Date\n",
       "2017-03-31          NaN\n",
       "2017-04-28     5.772613\n",
       "2017-05-31     0.805329\n",
       "2017-06-30    -0.316923\n",
       "2017-07-31    12.100944\n",
       "Freq: BM, Name: Adj Close, dtype: float64"
      ]
     },
     "execution_count": 43,
     "metadata": {},
     "output_type": "execute_result"
    }
   ],
   "source": [
    "fb_month_return = (fb_monthend/fb_monthend.shift(1)-1) * 100\n",
    "fb_month_return.head()"
   ]
  },
  {
   "cell_type": "code",
   "execution_count": 44,
   "metadata": {},
   "outputs": [],
   "source": [
    "fb_month_return = fb_month_return.dropna()"
   ]
  },
  {
   "cell_type": "code",
   "execution_count": 45,
   "metadata": {},
   "outputs": [
    {
     "data": {
      "text/plain": [
       "<AxesSubplot:xlabel='Lag', ylabel='Autocorrelation'>"
      ]
     },
     "execution_count": 45,
     "metadata": {},
     "output_type": "execute_result"
    },
    {
     "data": {
      "image/png": "[encoded data removed]",
      "text/plain": [
       "<Figure size 432x288 with 1 Axes>"
      ]
     },
     "metadata": {
      "needs_background": "light"
     },
     "output_type": "display_data"
    }
   ],
   "source": [
    "pd.plotting.autocorrelation_plot(fb_month_return)"
   ]
  },
  {
   "cell_type": "code",
   "execution_count": 46,
   "metadata": {},
   "outputs": [
    {
     "data": {
      "text/plain": [
       "Date\n",
       "2017-03-31         NaN\n",
       "2017-04-28   -7.953350\n",
       "2017-05-31   -3.805412\n",
       "2017-06-30    0.786210\n",
       "2017-07-31   -5.954625\n",
       "Freq: BM, Name: Adj Close, dtype: float64"
      ]
     },
     "execution_count": 46,
     "metadata": {},
     "output_type": "execute_result"
    }
   ],
   "source": [
    "ibm_month_return = (ibm_monthend/ibm_monthend.shift(1)-1) * 100\n",
    "ibm_month_return.head()"
   ]
  },
  {
   "cell_type": "code",
   "execution_count": 47,
   "metadata": {},
   "outputs": [],
   "source": [
    "ibm_month_return = ibm_month_return.dropna()"
   ]
  },
  {
   "cell_type": "code",
   "execution_count": 48,
   "metadata": {},
   "outputs": [
    {
     "data": {
      "text/plain": [
       "<AxesSubplot:xlabel='Lag', ylabel='Autocorrelation'>"
      ]
     },
     "execution_count": 48,
     "metadata": {},
     "output_type": "execute_result"
    },
    {
     "data": {
      "image/png": "[encoded data removed]",
      "text/plain": [
       "<Figure size 432x288 with 1 Axes>"
      ]
     },
     "metadata": {
      "needs_background": "light"
     },
     "output_type": "display_data"
    }
   ],
   "source": [
    "pd.plotting.autocorrelation_plot(ibm_month_return)"
   ]
  },
  {
   "cell_type": "code",
   "execution_count": 49,
   "metadata": {},
   "outputs": [
    {
     "data": {
      "text/plain": [
       "Date\n",
       "2017-03-31          NaN\n",
       "2017-04-28   -81.053464\n",
       "2017-05-31   -80.926622\n",
       "2017-06-30   -81.939168\n",
       "2017-07-31   -82.068243\n",
       "Freq: BM, Name: Adj Close, dtype: float64"
      ]
     },
     "execution_count": 49,
     "metadata": {},
     "output_type": "execute_result"
    }
   ],
   "source": [
    "mmm_month_return = (mmm_monthend/amzn_monthend.shift(1)-1) * 100\n",
    "mmm_month_return.head()"
   ]
  },
  {
   "cell_type": "code",
   "execution_count": 50,
   "metadata": {},
   "outputs": [],
   "source": [
    "mmm_month_return = mmm_month_return.dropna()"
   ]
  },
  {
   "cell_type": "code",
   "execution_count": 51,
   "metadata": {},
   "outputs": [
    {
     "data": {
      "text/plain": [
       "<AxesSubplot:xlabel='Lag', ylabel='Autocorrelation'>"
      ]
     },
     "execution_count": 51,
     "metadata": {},
     "output_type": "execute_result"
    },
    {
     "data": {
      "image/png": "[encoded data removed]",
      "text/plain": [
       "<Figure size 432x288 with 1 Axes>"
      ]
     },
     "metadata": {
      "needs_background": "light"
     },
     "output_type": "display_data"
    }
   ],
   "source": [
    "pd.plotting.autocorrelation_plot(mmm_month_return)"
   ]
  },
  {
   "cell_type": "markdown",
   "metadata": {},
   "source": [
    "#### Amazon\n",
    "The data lines are between the dotted lines which indicates that the \n",
    "correlation is highly insgnificant (-0.25 to 0.24)\n",
    "It shows that there is no significant relationship between returns and time.\n",
    "\n",
    "#### Facebook\n",
    "Similar to Amazon, the correlation between returns and time passing is very insignificant. \n",
    "\n",
    "#### IBM\n",
    "Like Amazon and Facebook, values are randomly distributed. \n",
    "Furthermore, from 35 months onwards, the correlation is very close to zero. \n",
    "\n",
    "#### 3M\n",
    "Here, the data line is above the first quartile and so we can say that\n",
    "there is a significant correlation where there is a relationship between returns and time in the first 9 months (we can see > 90% confidence interval). However from that point onwards,\n",
    "there is no indication of significant values. At 22 months and 60 months there is zero correlation. \n",
    "\n",
    "#### Conclusion\n",
    "Stock price returns are not affected by the time."
   ]
  },
  {
   "cell_type": "markdown",
   "metadata": {},
   "source": [
    "### 6 (6 points) Combine all 4 time series (returns) into a single DataFrame, Visualize the correlation between the returns of all pairs of stocks using a scatter plot matrix (use scatter_matrix() function from pandas.plotting). Explain the results. Is there any correlation?"
   ]
  },
  {
   "cell_type": "code",
   "execution_count": 52,
   "metadata": {},
   "outputs": [],
   "source": [
    "a = amzn_month_return\n",
    "f = fb_month_return\n",
    "i = ibm_month_return\n",
    "m = mmm_month_return"
   ]
  },
  {
   "cell_type": "code",
   "execution_count": 53,
   "metadata": {},
   "outputs": [
    {
     "data": {
      "text/html": [
       "<div>\n",
       "<style scoped>\n",
       "    .dataframe tbody tr th:only-of-type {\n",
       "        vertical-align: middle;\n",
       "    }\n",
       "\n",
       "    .dataframe tbody tr th {\n",
       "        vertical-align: top;\n",
       "    }\n",
       "\n",
       "    .dataframe thead th {\n",
       "        text-align: right;\n",
       "    }\n",
       "</style>\n",
       "<table border=\"1\" class=\"dataframe\">\n",
       "  <thead>\n",
       "    <tr style=\"text-align: right;\">\n",
       "      <th></th>\n",
       "      <th>a</th>\n",
       "      <th>f</th>\n",
       "      <th>i</th>\n",
       "      <th>m</th>\n",
       "    </tr>\n",
       "    <tr>\n",
       "      <th>Date</th>\n",
       "      <th></th>\n",
       "      <th></th>\n",
       "      <th></th>\n",
       "      <th></th>\n",
       "    </tr>\n",
       "  </thead>\n",
       "  <tbody>\n",
       "    <tr>\n",
       "      <th>2017-04-28</th>\n",
       "      <td>4.337087</td>\n",
       "      <td>5.772613</td>\n",
       "      <td>-7.953350</td>\n",
       "      <td>-81.053464</td>\n",
       "    </tr>\n",
       "    <tr>\n",
       "      <th>2017-05-31</th>\n",
       "      <td>7.527650</td>\n",
       "      <td>0.805329</td>\n",
       "      <td>-3.805412</td>\n",
       "      <td>-80.926622</td>\n",
       "    </tr>\n",
       "    <tr>\n",
       "      <th>2017-06-30</th>\n",
       "      <td>-2.676399</td>\n",
       "      <td>-0.316923</td>\n",
       "      <td>0.786210</td>\n",
       "      <td>-81.939168</td>\n",
       "    </tr>\n",
       "    <tr>\n",
       "      <th>2017-07-31</th>\n",
       "      <td>2.043391</td>\n",
       "      <td>12.100944</td>\n",
       "      <td>-5.954625</td>\n",
       "      <td>-82.068243</td>\n",
       "    </tr>\n",
       "    <tr>\n",
       "      <th>2017-08-31</th>\n",
       "      <td>-0.726888</td>\n",
       "      <td>1.607091</td>\n",
       "      <td>-0.040462</td>\n",
       "      <td>-82.049499</td>\n",
       "    </tr>\n",
       "  </tbody>\n",
       "</table>\n",
       "</div>"
      ],
      "text/plain": [
       "                   a          f         i          m\n",
       "Date                                                \n",
       "2017-04-28  4.337087   5.772613 -7.953350 -81.053464\n",
       "2017-05-31  7.527650   0.805329 -3.805412 -80.926622\n",
       "2017-06-30 -2.676399  -0.316923  0.786210 -81.939168\n",
       "2017-07-31  2.043391  12.100944 -5.954625 -82.068243\n",
       "2017-08-31 -0.726888   1.607091 -0.040462 -82.049499"
      ]
     },
     "execution_count": 53,
     "metadata": {},
     "output_type": "execute_result"
    }
   ],
   "source": [
    "df1 = pd.DataFrame({'a':a,'f':f,'i':i, 'm':m})\n",
    "\n",
    "df1.head()"
   ]
  },
  {
   "cell_type": "code",
   "execution_count": 54,
   "metadata": {},
   "outputs": [
    {
     "data": {
      "text/plain": [
       "array([[<AxesSubplot:xlabel='a', ylabel='a'>,\n",
       "        <AxesSubplot:xlabel='f', ylabel='a'>,\n",
       "        <AxesSubplot:xlabel='i', ylabel='a'>,\n",
       "        <AxesSubplot:xlabel='m', ylabel='a'>],\n",
       "       [<AxesSubplot:xlabel='a', ylabel='f'>,\n",
       "        <AxesSubplot:xlabel='f', ylabel='f'>,\n",
       "        <AxesSubplot:xlabel='i', ylabel='f'>,\n",
       "        <AxesSubplot:xlabel='m', ylabel='f'>],\n",
       "       [<AxesSubplot:xlabel='a', ylabel='i'>,\n",
       "        <AxesSubplot:xlabel='f', ylabel='i'>,\n",
       "        <AxesSubplot:xlabel='i', ylabel='i'>,\n",
       "        <AxesSubplot:xlabel='m', ylabel='i'>],\n",
       "       [<AxesSubplot:xlabel='a', ylabel='m'>,\n",
       "        <AxesSubplot:xlabel='f', ylabel='m'>,\n",
       "        <AxesSubplot:xlabel='i', ylabel='m'>,\n",
       "        <AxesSubplot:xlabel='m', ylabel='m'>]], dtype=object)"
      ]
     },
     "execution_count": 54,
     "metadata": {},
     "output_type": "execute_result"
    },
    {
     "data": {
      "image/png": "[encoded data removed]",
      "text/plain": [
       "<Figure size 432x288 with 16 Axes>"
      ]
     },
     "metadata": {
      "needs_background": "light"
     },
     "output_type": "display_data"
    }
   ],
   "source": [
    "pd.plotting.scatter_matrix(df1, diagonal='kde')"
   ]
  },
  {
   "cell_type": "markdown",
   "metadata": {},
   "source": [
    "The values are randomly distributed and no trends can be identified between returns of stock."
   ]
  },
  {
   "cell_type": "code",
   "execution_count": null,
   "metadata": {},
   "outputs": [],
   "source": []
  }
 ],
 "metadata": {
  "kernelspec": {
   "display_name": "Python 3 (ipykernel)",
   "language": "python",
   "name": "python3"
  },
  "language_info": {
   "codemirror_mode": {
    "name": "ipython",
    "version": 3
   },
   "file_extension": ".py",
   "mimetype": "text/x-python",
   "name": "python",
   "nbconvert_exporter": "python",
   "pygments_lexer": "ipython3",
   "version": "3.9.7"
  },
  "toc": {
   "base_numbering": 1,
   "nav_menu": {},
   "number_sections": false,
   "sideBar": true,
   "skip_h1_title": false,
   "title_cell": "Table of Contents",
   "title_sidebar": "Contents",
   "toc_cell": false,
   "toc_position": {},
   "toc_section_display": true,
   "toc_window_display": false
  }
 },
 "nbformat": 4,
 "nbformat_minor": 4
}
